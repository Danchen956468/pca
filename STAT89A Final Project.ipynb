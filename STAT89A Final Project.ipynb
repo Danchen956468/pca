{
 "cells": [
  {
   "cell_type": "code",
   "execution_count": 56,
   "metadata": {
    "collapsed": true
   },
   "outputs": [],
   "source": [
    "## Libraries:\n",
    "\n",
    "import math\n",
    "import numpy as np\n",
    "from datascience import *\n",
    "%matplotlib inline\n",
    "import matplotlib.pyplot as plt\n",
    "plt.style.use('fivethirtyeight')\n",
    "\n",
    "np.set_printoptions(threshold=50, linewidth=100)\n",
    "import matplotlib as mpl\n",
    "mpl.rc('font', size=16)"
   ]
  },
  {
   "cell_type": "code",
   "execution_count": 57,
   "metadata": {
    "collapsed": false
   },
   "outputs": [
    {
     "data": {
      "text/html": [
       "<table border=\"1\" class=\"dataframe\">\n",
       "    <thead>\n",
       "        <tr>\n",
       "            <th>Rk</th> <th>Player</th> <th>Pos</th> <th>Age</th> <th>Tm</th> <th>G</th> <th>GS</th> <th>MP</th> <th>FG</th> <th>FGA</th> <th>FG%</th> <th>3P</th> <th>3PA</th> <th>3P%</th> <th>2P</th> <th>2PA</th> <th>2P%</th> <th>eFG%</th> <th>FT</th> <th>FTA</th> <th>FT%</th> <th>ORB</th> <th>DRB</th> <th>TRB</th> <th>AST</th> <th>STL</th> <th>BLK</th> <th>TOV</th> <th>PF</th> <th>PTS</th>\n",
       "        </tr>\n",
       "    </thead>\n",
       "    <tbody>\n",
       "        <tr>\n",
       "            <td>1   </td> <td>Quincy Acy            </td> <td>PF  </td> <td>25  </td> <td>SAC </td> <td>57  </td> <td>29  </td> <td>831 </td> <td>114 </td> <td>200 </td> <td>.570</td> <td>18  </td> <td>43  </td> <td>.419</td> <td>96  </td> <td>157 </td> <td>.611 </td> <td>.615</td> <td>42  </td> <td>56  </td> <td>.750 </td> <td>64  </td> <td>115 </td> <td>179 </td> <td>24  </td> <td>26  </td> <td>21  </td> <td>23  </td> <td>101 </td> <td>288 </td>\n",
       "        </tr>\n",
       "    </tbody>\n",
       "        <tr>\n",
       "            <td>2   </td> <td>Jordan Adams          </td> <td>SG  </td> <td>21  </td> <td>MEM </td> <td>2   </td> <td>0   </td> <td>15  </td> <td>2   </td> <td>6   </td> <td>.333</td> <td>0   </td> <td>1   </td> <td>.000</td> <td>2   </td> <td>5   </td> <td>.400 </td> <td>.333</td> <td>3   </td> <td>5   </td> <td>.600 </td> <td>0   </td> <td>2   </td> <td>2   </td> <td>3   </td> <td>3   </td> <td>0   </td> <td>2   </td> <td>2   </td> <td>7   </td>\n",
       "        </tr>\n",
       "    </tbody>\n",
       "        <tr>\n",
       "            <td>3   </td> <td>Steven Adams          </td> <td>C   </td> <td>22  </td> <td>OKC </td> <td>78  </td> <td>78  </td> <td>1952</td> <td>248 </td> <td>409 </td> <td>.606</td> <td>0   </td> <td>0   </td> <td>nan </td> <td>248 </td> <td>409 </td> <td>.606 </td> <td>.606</td> <td>110 </td> <td>188 </td> <td>.585 </td> <td>206 </td> <td>303 </td> <td>509 </td> <td>60  </td> <td>40  </td> <td>86  </td> <td>82  </td> <td>216 </td> <td>606 </td>\n",
       "        </tr>\n",
       "    </tbody>\n",
       "        <tr>\n",
       "            <td>4   </td> <td>Arron Afflalo         </td> <td>SG  </td> <td>30  </td> <td>NYK </td> <td>70  </td> <td>57  </td> <td>2345</td> <td>349 </td> <td>788 </td> <td>.443</td> <td>88  </td> <td>233 </td> <td>.378</td> <td>261 </td> <td>555 </td> <td>.470 </td> <td>.499</td> <td>110 </td> <td>131 </td> <td>.840 </td> <td>23  </td> <td>242 </td> <td>265 </td> <td>142 </td> <td>24  </td> <td>10  </td> <td>81  </td> <td>141 </td> <td>896 </td>\n",
       "        </tr>\n",
       "    </tbody>\n",
       "        <tr>\n",
       "            <td>5   </td> <td>Alexis Ajinca         </td> <td>C   </td> <td>27  </td> <td>NOP </td> <td>59  </td> <td>17  </td> <td>861 </td> <td>150 </td> <td>315 </td> <td>.476</td> <td>0   </td> <td>1   </td> <td>.000</td> <td>150 </td> <td>314 </td> <td>.478 </td> <td>.476</td> <td>52  </td> <td>62  </td> <td>.839 </td> <td>75  </td> <td>194 </td> <td>269 </td> <td>31  </td> <td>19  </td> <td>36  </td> <td>54  </td> <td>134 </td> <td>352 </td>\n",
       "        </tr>\n",
       "    </tbody>\n",
       "        <tr>\n",
       "            <td>6   </td> <td>Cole Aldrich          </td> <td>C   </td> <td>27  </td> <td>LAC </td> <td>58  </td> <td>4   </td> <td>760 </td> <td>127 </td> <td>218 </td> <td>.583</td> <td>0   </td> <td>0   </td> <td>nan </td> <td>127 </td> <td>218 </td> <td>.583 </td> <td>.583</td> <td>54  </td> <td>78  </td> <td>.692 </td> <td>84  </td> <td>190 </td> <td>274 </td> <td>48  </td> <td>45  </td> <td>62  </td> <td>63  </td> <td>135 </td> <td>308 </td>\n",
       "        </tr>\n",
       "    </tbody>\n",
       "        <tr>\n",
       "            <td>7   </td> <td>LaMarcus Aldridge     </td> <td>PF  </td> <td>30  </td> <td>SAS </td> <td>73  </td> <td>73  </td> <td>2242</td> <td>534 </td> <td>1040</td> <td>.513</td> <td>0   </td> <td>16  </td> <td>.000</td> <td>534 </td> <td>1024</td> <td>.521 </td> <td>.513</td> <td>255 </td> <td>296 </td> <td>.861 </td> <td>175 </td> <td>452 </td> <td>627 </td> <td>110 </td> <td>38  </td> <td>80  </td> <td>98  </td> <td>150 </td> <td>1323</td>\n",
       "        </tr>\n",
       "    </tbody>\n",
       "        <tr>\n",
       "            <td>8   </td> <td>Cliff Alexander       </td> <td>PF  </td> <td>20  </td> <td>POR </td> <td>8   </td> <td>0   </td> <td>36  </td> <td>5   </td> <td>10  </td> <td>.500</td> <td>0   </td> <td>0   </td> <td>nan </td> <td>5   </td> <td>10  </td> <td>.500 </td> <td>.500</td> <td>0   </td> <td>0   </td> <td>nan  </td> <td>2   </td> <td>4   </td> <td>6   </td> <td>0   </td> <td>1   </td> <td>2   </td> <td>1   </td> <td>1   </td> <td>10  </td>\n",
       "        </tr>\n",
       "    </tbody>\n",
       "        <tr>\n",
       "            <td>9   </td> <td>Lavoy Allen           </td> <td>PF  </td> <td>26  </td> <td>IND </td> <td>77  </td> <td>26  </td> <td>1555</td> <td>182 </td> <td>353 </td> <td>.516</td> <td>0   </td> <td>0   </td> <td>nan </td> <td>182 </td> <td>353 </td> <td>.516 </td> <td>.516</td> <td>46  </td> <td>73  </td> <td>.630 </td> <td>156 </td> <td>257 </td> <td>413 </td> <td>75  </td> <td>26  </td> <td>41  </td> <td>69  </td> <td>142 </td> <td>410 </td>\n",
       "        </tr>\n",
       "    </tbody>\n",
       "        <tr>\n",
       "            <td>10  </td> <td>Tony Allen            </td> <td>SF  </td> <td>34  </td> <td>MEM </td> <td>64  </td> <td>57  </td> <td>1620</td> <td>215 </td> <td>469 </td> <td>.458</td> <td>15  </td> <td>42  </td> <td>.357</td> <td>200 </td> <td>427 </td> <td>.468 </td> <td>.474</td> <td>90  </td> <td>138 </td> <td>.652 </td> <td>104 </td> <td>192 </td> <td>296 </td> <td>70  </td> <td>110 </td> <td>18  </td> <td>78  </td> <td>175 </td> <td>535 </td>\n",
       "        </tr>\n",
       "    </tbody>\n",
       "        <tr>\n",
       "            <td>11  </td> <td>Al-Farouq Aminu       </td> <td>SF  </td> <td>25  </td> <td>POR </td> <td>81  </td> <td>81  </td> <td>2322</td> <td>296 </td> <td>713 </td> <td>.415</td> <td>124 </td> <td>344 </td> <td>.360</td> <td>172 </td> <td>369 </td> <td>.466 </td> <td>.502</td> <td>113 </td> <td>154 </td> <td>.734 </td> <td>97  </td> <td>399 </td> <td>496 </td> <td>138 </td> <td>71  </td> <td>53  </td> <td>119 </td> <td>168 </td> <td>829 </td>\n",
       "        </tr>\n",
       "    </tbody>\n",
       "        <tr>\n",
       "            <td>12  </td> <td>Lou Amundson          </td> <td>PF  </td> <td>33  </td> <td>NYK </td> <td>28  </td> <td>0   </td> <td>197 </td> <td>19  </td> <td>51  </td> <td>.373</td> <td>0   </td> <td>0   </td> <td>nan </td> <td>19  </td> <td>51  </td> <td>.373 </td> <td>.373</td> <td>12  </td> <td>25  </td> <td>.480 </td> <td>21  </td> <td>26  </td> <td>47  </td> <td>12  </td> <td>6   </td> <td>7   </td> <td>15  </td> <td>42  </td> <td>50  </td>\n",
       "        </tr>\n",
       "    </tbody>\n",
       "        <tr>\n",
       "            <td>13  </td> <td>Chris Andersen        </td> <td>C   </td> <td>37  </td> <td>TOT </td> <td>25  </td> <td>13  </td> <td>373 </td> <td>34  </td> <td>65  </td> <td>.523</td> <td>4   </td> <td>12  </td> <td>.333</td> <td>30  </td> <td>53  </td> <td>.566 </td> <td>.554</td> <td>25  </td> <td>36  </td> <td>.694 </td> <td>34  </td> <td>58  </td> <td>92  </td> <td>12  </td> <td>13  </td> <td>13  </td> <td>8   </td> <td>29  </td> <td>97  </td>\n",
       "        </tr>\n",
       "    </tbody>\n",
       "        <tr>\n",
       "            <td>13  </td> <td>Chris Andersen        </td> <td>C   </td> <td>37  </td> <td>MIA </td> <td>7   </td> <td>1   </td> <td>36  </td> <td>4   </td> <td>10  </td> <td>.400</td> <td>2   </td> <td>5   </td> <td>.400</td> <td>2   </td> <td>5   </td> <td>.400 </td> <td>.500</td> <td>3   </td> <td>4   </td> <td>.750 </td> <td>3   </td> <td>6   </td> <td>9   </td> <td>3   </td> <td>1   </td> <td>3   </td> <td>2   </td> <td>4   </td> <td>13  </td>\n",
       "        </tr>\n",
       "    </tbody>\n",
       "        <tr>\n",
       "            <td>13  </td> <td>Chris Andersen        </td> <td>C   </td> <td>37  </td> <td>MEM </td> <td>18  </td> <td>12  </td> <td>337 </td> <td>30  </td> <td>55  </td> <td>.545</td> <td>2   </td> <td>7   </td> <td>.286</td> <td>28  </td> <td>48  </td> <td>.583 </td> <td>.564</td> <td>22  </td> <td>32  </td> <td>.688 </td> <td>31  </td> <td>52  </td> <td>83  </td> <td>9   </td> <td>12  </td> <td>10  </td> <td>6   </td> <td>25  </td> <td>84  </td>\n",
       "        </tr>\n",
       "    </tbody>\n",
       "        <tr>\n",
       "            <td>14  </td> <td>Alan Anderson         </td> <td>SG  </td> <td>33  </td> <td>WAS </td> <td>11  </td> <td>0   </td> <td>162 </td> <td>18  </td> <td>47  </td> <td>.383</td> <td>11  </td> <td>32  </td> <td>.344</td> <td>7   </td> <td>15  </td> <td>.467 </td> <td>.500</td> <td>11  </td> <td>15  </td> <td>.733 </td> <td>1   </td> <td>22  </td> <td>23  </td> <td>10  </td> <td>3   </td> <td>1   </td> <td>2   </td> <td>19  </td> <td>58  </td>\n",
       "        </tr>\n",
       "    </tbody>\n",
       "        <tr>\n",
       "            <td>15  </td> <td>James Anderson        </td> <td>SG  </td> <td>26  </td> <td>SAC </td> <td>49  </td> <td>14  </td> <td>660 </td> <td>58  </td> <td>158 </td> <td>.367</td> <td>22  </td> <td>78  </td> <td>.282</td> <td>36  </td> <td>80  </td> <td>.450 </td> <td>.437</td> <td>18  </td> <td>21  </td> <td>.857 </td> <td>12  </td> <td>64  </td> <td>76  </td> <td>34  </td> <td>17  </td> <td>13  </td> <td>33  </td> <td>50  </td> <td>156 </td>\n",
       "        </tr>\n",
       "    </tbody>\n",
       "        <tr>\n",
       "            <td>16  </td> <td>Justin Anderson       </td> <td>SG  </td> <td>22  </td> <td>DAL </td> <td>53  </td> <td>8   </td> <td>603 </td> <td>67  </td> <td>166 </td> <td>.404</td> <td>21  </td> <td>78  </td> <td>.269</td> <td>46  </td> <td>88  </td> <td>.523 </td> <td>.467</td> <td>42  </td> <td>53  </td> <td>.792 </td> <td>17  </td> <td>107 </td> <td>124 </td> <td>25  </td> <td>18  </td> <td>23  </td> <td>24  </td> <td>40  </td> <td>197 </td>\n",
       "        </tr>\n",
       "    </tbody>\n",
       "        <tr>\n",
       "            <td>17  </td> <td>Kyle Anderson         </td> <td>SF  </td> <td>22  </td> <td>SAS </td> <td>76  </td> <td>10  </td> <td>1194</td> <td>131 </td> <td>281 </td> <td>.466</td> <td>11  </td> <td>36  </td> <td>.306</td> <td>120 </td> <td>245 </td> <td>.490 </td> <td>.486</td> <td>58  </td> <td>78  </td> <td>.744 </td> <td>24  </td> <td>205 </td> <td>229 </td> <td>119 </td> <td>53  </td> <td>29  </td> <td>58  </td> <td>95  </td> <td>331 </td>\n",
       "        </tr>\n",
       "    </tbody>\n",
       "        <tr>\n",
       "            <td>18  </td> <td>Ryan Anderson         </td> <td>PF  </td> <td>27  </td> <td>NOP </td> <td>66  </td> <td>7   </td> <td>2008</td> <td>397 </td> <td>929 </td> <td>.427</td> <td>131 </td> <td>358 </td> <td>.366</td> <td>266 </td> <td>571 </td> <td>.466 </td> <td>.498</td> <td>199 </td> <td>228 </td> <td>.873 </td> <td>131 </td> <td>265 </td> <td>396 </td> <td>73  </td> <td>38  </td> <td>25  </td> <td>90  </td> <td>109 </td> <td>1124</td>\n",
       "        </tr>\n",
       "    </tbody>\n",
       "        <tr>\n",
       "            <td>19  </td> <td>Giannis Antetokounmpo </td> <td>SF  </td> <td>21  </td> <td>MIL </td> <td>78  </td> <td>77  </td> <td>2757</td> <td>501 </td> <td>992 </td> <td>.505</td> <td>26  </td> <td>102 </td> <td>.255</td> <td>475 </td> <td>890 </td> <td>.534 </td> <td>.518</td> <td>292 </td> <td>403 </td> <td>.725 </td> <td>109 </td> <td>485 </td> <td>594 </td> <td>337 </td> <td>93  </td> <td>109 </td> <td>199 </td> <td>251 </td> <td>1320</td>\n",
       "        </tr>\n",
       "    </tbody>\n",
       "        <tr>\n",
       "            <td>20  </td> <td>Thanasis Antetokounmpo</td> <td>SF  </td> <td>23  </td> <td>NYK </td> <td>2   </td> <td>0   </td> <td>6   </td> <td>3   </td> <td>4   </td> <td>.750</td> <td>0   </td> <td>1   </td> <td>.000</td> <td>3   </td> <td>3   </td> <td>1.000</td> <td>.750</td> <td>0   </td> <td>0   </td> <td>nan  </td> <td>0   </td> <td>1   </td> <td>1   </td> <td>0   </td> <td>0   </td> <td>0   </td> <td>0   </td> <td>2   </td> <td>6   </td>\n",
       "        </tr>\n",
       "    </tbody>\n",
       "        <tr>\n",
       "            <td>Rk  </td> <td>Player                </td> <td>Pos </td> <td>Age </td> <td>Tm  </td> <td>G   </td> <td>GS  </td> <td>MP  </td> <td>FG  </td> <td>FGA </td> <td>FG% </td> <td>3P  </td> <td>3PA </td> <td>3P% </td> <td>2P  </td> <td>2PA </td> <td>2P%  </td> <td>eFG%</td> <td>FT  </td> <td>FTA </td> <td>FT%  </td> <td>ORB </td> <td>DRB </td> <td>TRB </td> <td>AST </td> <td>STL </td> <td>BLK </td> <td>TOV </td> <td>PF  </td> <td>PTS </td>\n",
       "        </tr>\n",
       "    </tbody>\n",
       "        <tr>\n",
       "            <td>21  </td> <td>Carmelo Anthony       </td> <td>SF  </td> <td>31  </td> <td>NYK </td> <td>72  </td> <td>72  </td> <td>2530</td> <td>567 </td> <td>1307</td> <td>.434</td> <td>105 </td> <td>310 </td> <td>.339</td> <td>462 </td> <td>997 </td> <td>.463 </td> <td>.474</td> <td>334 </td> <td>403 </td> <td>.829 </td> <td>98  </td> <td>458 </td> <td>556 </td> <td>299 </td> <td>62  </td> <td>38  </td> <td>176 </td> <td>180 </td> <td>1573</td>\n",
       "        </tr>\n",
       "    </tbody>\n",
       "        <tr>\n",
       "            <td>22  </td> <td>Joel Anthony          </td> <td>C   </td> <td>33  </td> <td>DET </td> <td>18  </td> <td>0   </td> <td>70  </td> <td>3   </td> <td>7   </td> <td>.429</td> <td>0   </td> <td>0   </td> <td>nan </td> <td>3   </td> <td>7   </td> <td>.429 </td> <td>.429</td> <td>5   </td> <td>6   </td> <td>.833 </td> <td>7   </td> <td>10  </td> <td>17  </td> <td>1   </td> <td>2   </td> <td>4   </td> <td>2   </td> <td>13  </td> <td>11  </td>\n",
       "        </tr>\n",
       "    </tbody>\n",
       "        <tr>\n",
       "            <td>23  </td> <td>Keith Appling         </td> <td>PG  </td> <td>23  </td> <td>ORL </td> <td>5   </td> <td>0   </td> <td>27  </td> <td>2   </td> <td>8   </td> <td>.250</td> <td>0   </td> <td>3   </td> <td>.000</td> <td>2   </td> <td>5   </td> <td>.400 </td> <td>.250</td> <td>2   </td> <td>2   </td> <td>1.000</td> <td>0   </td> <td>1   </td> <td>1   </td> <td>1   </td> <td>1   </td> <td>0   </td> <td>3   </td> <td>5   </td> <td>6   </td>\n",
       "        </tr>\n",
       "    </tbody>\n",
       "        <tr>\n",
       "            <td>24  </td> <td>Trevor Ariza          </td> <td>SF  </td> <td>30  </td> <td>HOU </td> <td>79  </td> <td>79  </td> <td>2808</td> <td>347 </td> <td>839 </td> <td>.414</td> <td>182 </td> <td>490 </td> <td>.371</td> <td>165 </td> <td>349 </td> <td>.473 </td> <td>.522</td> <td>124 </td> <td>159 </td> <td>.780 </td> <td>65  </td> <td>293 </td> <td>358 </td> <td>184 </td> <td>159 </td> <td>26  </td> <td>110 </td> <td>174 </td> <td>1000</td>\n",
       "        </tr>\n",
       "    </tbody>\n",
       "        <tr>\n",
       "            <td>25  </td> <td>Darrell Arthur        </td> <td>PF  </td> <td>27  </td> <td>DEN </td> <td>70  </td> <td>16  </td> <td>1516</td> <td>221 </td> <td>489 </td> <td>.452</td> <td>45  </td> <td>117 </td> <td>.385</td> <td>176 </td> <td>372 </td> <td>.473 </td> <td>.498</td> <td>40  </td> <td>53  </td> <td>.755 </td> <td>86  </td> <td>207 </td> <td>293 </td> <td>96  </td> <td>53  </td> <td>48  </td> <td>66  </td> <td>185 </td> <td>527 </td>\n",
       "        </tr>\n",
       "    </tbody>\n",
       "        <tr>\n",
       "            <td>26  </td> <td>Omer Asik             </td> <td>C   </td> <td>29  </td> <td>NOP </td> <td>66  </td> <td>62  </td> <td>1122</td> <td>88  </td> <td>174 </td> <td>.506</td> <td>0   </td> <td>0   </td> <td>nan </td> <td>88  </td> <td>174 </td> <td>.506 </td> <td>.506</td> <td>55  </td> <td>102 </td> <td>.539 </td> <td>115 </td> <td>281 </td> <td>396 </td> <td>24  </td> <td>17  </td> <td>23  </td> <td>57  </td> <td>122 </td> <td>231 </td>\n",
       "        </tr>\n",
       "    </tbody>\n",
       "        <tr>\n",
       "            <td>27  </td> <td>D.J. Augustin         </td> <td>PG  </td> <td>28  </td> <td>TOT </td> <td>61  </td> <td>0   </td> <td>1163</td> <td>146 </td> <td>344 </td> <td>.424</td> <td>68  </td> <td>166 </td> <td>.410</td> <td>78  </td> <td>178 </td> <td>.438 </td> <td>.523</td> <td>103 </td> <td>127 </td> <td>.811 </td> <td>8   </td> <td>86  </td> <td>94  </td> <td>195 </td> <td>37  </td> <td>3   </td> <td>83  </td> <td>83  </td> <td>463 </td>\n",
       "        </tr>\n",
       "    </tbody>\n",
       "</table>\n",
       "<p>... (568 rows omitted)</p"
      ],
      "text/plain": [
       "<IPython.core.display.HTML object>"
      ]
     },
     "metadata": {},
     "output_type": "display_data"
    }
   ],
   "source": [
    "# Imported basketball data from http://www.basketball-reference.com/leagues/NBA_2016_totals.html \n",
    "basketball_data = Table.read_table('basketball.csv')\n",
    "basketball_data.show(30)"
   ]
  },
  {
   "cell_type": "code",
   "execution_count": 58,
   "metadata": {
    "collapsed": false
   },
   "outputs": [
    {
     "data": {
      "text/plain": [
       "['288',\n",
       " '7',\n",
       " '606',\n",
       " '896',\n",
       " '352',\n",
       " '308',\n",
       " '1323',\n",
       " '10',\n",
       " '410',\n",
       " '535',\n",
       " '829',\n",
       " '50',\n",
       " '97',\n",
       " '13',\n",
       " '84',\n",
       " '58',\n",
       " '156',\n",
       " '197',\n",
       " '331',\n",
       " '1124',\n",
       " '1320',\n",
       " '6',\n",
       " 'PTS',\n",
       " '1573',\n",
       " '11',\n",
       " '6',\n",
       " '1000',\n",
       " '527',\n",
       " '231',\n",
       " '463',\n",
       " '142',\n",
       " '321',\n",
       " '22',\n",
       " '320',\n",
       " '34',\n",
       " '428',\n",
       " '803',\n",
       " '304',\n",
       " '759',\n",
       " '745',\n",
       " '1170',\n",
       " '473',\n",
       " '1040',\n",
       " '541',\n",
       " '495',\n",
       " 'PTS',\n",
       " '845',\n",
       " '958',\n",
       " '241',\n",
       " '696',\n",
       " '28',\n",
       " '680',\n",
       " '437',\n",
       " '287',\n",
       " '126',\n",
       " '61',\n",
       " '231',\n",
       " '632',\n",
       " '838',\n",
       " '371',\n",
       " '70',\n",
       " '1014',\n",
       " '446',\n",
       " '1010',\n",
       " '1121',\n",
       " '70',\n",
       " 'PTS',\n",
       " '586',\n",
       " '485',\n",
       " '115',\n",
       " '20',\n",
       " '348',\n",
       " '1088',\n",
       " '265',\n",
       " '216',\n",
       " '49',\n",
       " '105',\n",
       " '679',\n",
       " '412',\n",
       " '56',\n",
       " '1366',\n",
       " '124',\n",
       " '0',\n",
       " '544',\n",
       " '1088',\n",
       " '846',\n",
       " '526',\n",
       " '278',\n",
       " '383',\n",
       " 'PTS',\n",
       " '623',\n",
       " '813',\n",
       " '446',\n",
       " '628',\n",
       " '33',\n",
       " '595',\n",
       " '472',\n",
       " '236',\n",
       " '6',\n",
       " '1202',\n",
       " '477',\n",
       " '1035',\n",
       " '115',\n",
       " '857',\n",
       " '33',\n",
       " '50',\n",
       " '6',\n",
       " '4',\n",
       " '2',\n",
       " '1748',\n",
       " '807',\n",
       " '816',\n",
       " '1120',\n",
       " '1023',\n",
       " 'PTS',\n",
       " '457',\n",
       " '120',\n",
       " '104',\n",
       " '16',\n",
       " '269',\n",
       " '2329',\n",
       " '218',\n",
       " '1481',\n",
       " '517',\n",
       " '2',\n",
       " '234',\n",
       " '79',\n",
       " '0',\n",
       " '553',\n",
       " '888',\n",
       " '1820',\n",
       " '481',\n",
       " '794',\n",
       " '40',\n",
       " '488',\n",
       " '984',\n",
       " '1305',\n",
       " 'PTS',\n",
       " '616',\n",
       " '510',\n",
       " '210',\n",
       " '1995',\n",
       " '24',\n",
       " '49',\n",
       " '576',\n",
       " '1113',\n",
       " '102',\n",
       " '0',\n",
       " '16',\n",
       " '86',\n",
       " '191',\n",
       " '71',\n",
       " '379',\n",
       " '316',\n",
       " '823',\n",
       " '97',\n",
       " '1005',\n",
       " '83',\n",
       " '731',\n",
       " '1178',\n",
       " '458',\n",
       " '323',\n",
       " '135',\n",
       " 'PTS',\n",
       " '235',\n",
       " '51',\n",
       " '184',\n",
       " '9',\n",
       " '2',\n",
       " '7',\n",
       " '406',\n",
       " '229',\n",
       " '177',\n",
       " '1036',\n",
       " '616',\n",
       " '122',\n",
       " '861',\n",
       " '1187',\n",
       " '1189',\n",
       " '325',\n",
       " '1855',\n",
       " '627',\n",
       " '555',\n",
       " '555',\n",
       " '81',\n",
       " '495',\n",
       " '697',\n",
       " '686',\n",
       " '1001',\n",
       " '18',\n",
       " 'PTS',\n",
       " '723',\n",
       " '408',\n",
       " '554',\n",
       " '1120',\n",
       " '13',\n",
       " '0',\n",
       " '13',\n",
       " '611',\n",
       " '558',\n",
       " '914',\n",
       " '646',\n",
       " '268',\n",
       " '737',\n",
       " '18',\n",
       " '399',\n",
       " '286',\n",
       " '113',\n",
       " '104',\n",
       " '96',\n",
       " '305',\n",
       " '2304',\n",
       " '495',\n",
       " '13',\n",
       " '136',\n",
       " '486',\n",
       " '916',\n",
       " 'PTS',\n",
       " '3',\n",
       " '1100',\n",
       " '669',\n",
       " '431',\n",
       " '12',\n",
       " '58',\n",
       " '319',\n",
       " '4',\n",
       " '1535',\n",
       " '624',\n",
       " '385',\n",
       " '449',\n",
       " '475',\n",
       " '185',\n",
       " '137',\n",
       " '48',\n",
       " '506',\n",
       " '875',\n",
       " '643',\n",
       " '215',\n",
       " '148',\n",
       " '137',\n",
       " '132',\n",
       " '5',\n",
       " '1089',\n",
       " '196',\n",
       " '63',\n",
       " '133',\n",
       " 'PTS',\n",
       " '124',\n",
       " '8',\n",
       " '116',\n",
       " '145',\n",
       " '287',\n",
       " '1139',\n",
       " '1210',\n",
       " '943',\n",
       " '231',\n",
       " '14',\n",
       " '337',\n",
       " '180',\n",
       " '29',\n",
       " '128',\n",
       " '86',\n",
       " '981',\n",
       " '454',\n",
       " '738',\n",
       " '589',\n",
       " '149',\n",
       " '321',\n",
       " '26',\n",
       " '1006',\n",
       " '411',\n",
       " '1489',\n",
       " '1886',\n",
       " '520',\n",
       " 'PTS',\n",
       " '22',\n",
       " '392',\n",
       " '169',\n",
       " '69',\n",
       " '100',\n",
       " '332',\n",
       " '157',\n",
       " '175',\n",
       " '333',\n",
       " '566',\n",
       " '198',\n",
       " '287',\n",
       " '948',\n",
       " '671',\n",
       " '277',\n",
       " '26',\n",
       " '16',\n",
       " '10',\n",
       " '576',\n",
       " '314',\n",
       " '525',\n",
       " '778',\n",
       " '169',\n",
       " '432',\n",
       " '145',\n",
       " '973',\n",
       " '675',\n",
       " '44',\n",
       " 'PTS',\n",
       " '595',\n",
       " '1019',\n",
       " '97',\n",
       " '20',\n",
       " '149',\n",
       " '89',\n",
       " '316',\n",
       " '27',\n",
       " '289',\n",
       " '1018',\n",
       " '733',\n",
       " '498',\n",
       " '568',\n",
       " '351',\n",
       " '540',\n",
       " '465',\n",
       " '1110',\n",
       " '356',\n",
       " '309',\n",
       " '47',\n",
       " '749',\n",
       " '511',\n",
       " '238',\n",
       " '421',\n",
       " '214',\n",
       " '207',\n",
       " '677',\n",
       " '1497',\n",
       " 'PTS',\n",
       " '511',\n",
       " '539',\n",
       " '1858',\n",
       " '879',\n",
       " '482',\n",
       " '9',\n",
       " '1501',\n",
       " '834',\n",
       " '1224',\n",
       " '1623',\n",
       " '461',\n",
       " '418',\n",
       " '93',\n",
       " '325',\n",
       " '646',\n",
       " '49',\n",
       " '266',\n",
       " '97',\n",
       " '130',\n",
       " '507',\n",
       " '415',\n",
       " '92',\n",
       " '946',\n",
       " '321',\n",
       " 'PTS',\n",
       " '223',\n",
       " '117',\n",
       " '137',\n",
       " '68',\n",
       " '69',\n",
       " '1649',\n",
       " '481',\n",
       " '94',\n",
       " '78',\n",
       " '738',\n",
       " '26',\n",
       " '172',\n",
       " '493',\n",
       " '61',\n",
       " '37',\n",
       " '24',\n",
       " '148',\n",
       " '2',\n",
       " '118',\n",
       " '21',\n",
       " '1417',\n",
       " '753',\n",
       " '136',\n",
       " '88',\n",
       " '48',\n",
       " '58',\n",
       " 'PTS',\n",
       " '680',\n",
       " '36',\n",
       " '1363',\n",
       " '725',\n",
       " '8',\n",
       " '1180',\n",
       " '14',\n",
       " '443',\n",
       " '8',\n",
       " '1115',\n",
       " '765',\n",
       " '430',\n",
       " '335',\n",
       " '362',\n",
       " '220',\n",
       " '461',\n",
       " '847',\n",
       " '812',\n",
       " '65',\n",
       " '186',\n",
       " '341',\n",
       " '199',\n",
       " 'PTS',\n",
       " '390',\n",
       " '299',\n",
       " '468',\n",
       " '384',\n",
       " '124',\n",
       " '726',\n",
       " '55',\n",
       " '24',\n",
       " '17',\n",
       " '7',\n",
       " '1331',\n",
       " '252',\n",
       " '0',\n",
       " '192',\n",
       " '305',\n",
       " '928',\n",
       " '1153',\n",
       " '662',\n",
       " '216',\n",
       " '637',\n",
       " '67',\n",
       " '1036',\n",
       " 'PTS',\n",
       " '837',\n",
       " '837',\n",
       " '84',\n",
       " '538',\n",
       " '1434',\n",
       " '123',\n",
       " '262',\n",
       " '765',\n",
       " '54',\n",
       " '85',\n",
       " '400',\n",
       " '24',\n",
       " '741',\n",
       " '304',\n",
       " '856',\n",
       " '414',\n",
       " '1028',\n",
       " '399',\n",
       " '225',\n",
       " '77',\n",
       " '55',\n",
       " '22',\n",
       " 'PTS',\n",
       " '322',\n",
       " '132',\n",
       " '221',\n",
       " '908',\n",
       " '1002',\n",
       " '1215',\n",
       " '182',\n",
       " '338',\n",
       " '563',\n",
       " '325',\n",
       " '191',\n",
       " '145',\n",
       " '46',\n",
       " '157',\n",
       " '0',\n",
       " '307',\n",
       " '859',\n",
       " '1080',\n",
       " '679',\n",
       " '70',\n",
       " '755',\n",
       " '75',\n",
       " 'PTS',\n",
       " '302',\n",
       " '1034',\n",
       " '76',\n",
       " '374',\n",
       " '240',\n",
       " '134',\n",
       " '864',\n",
       " '652',\n",
       " '454',\n",
       " '480',\n",
       " '183',\n",
       " '767',\n",
       " '311',\n",
       " '310',\n",
       " '73',\n",
       " '220',\n",
       " '404',\n",
       " '548',\n",
       " '43',\n",
       " '944',\n",
       " '239',\n",
       " '705',\n",
       " '953',\n",
       " '530',\n",
       " 'PTS',\n",
       " '317',\n",
       " '181',\n",
       " '136',\n",
       " '23',\n",
       " '318',\n",
       " '500',\n",
       " '201',\n",
       " '604',\n",
       " '540',\n",
       " '204',\n",
       " '336',\n",
       " '22',\n",
       " '2',\n",
       " '20',\n",
       " '7',\n",
       " '0',\n",
       " '7',\n",
       " '296',\n",
       " '495',\n",
       " '824',\n",
       " '25',\n",
       " '1202',\n",
       " '917',\n",
       " '559',\n",
       " '407',\n",
       " '1785',\n",
       " '484',\n",
       " '728',\n",
       " 'PTS',\n",
       " '132',\n",
       " '60',\n",
       " '72',\n",
       " '1755',\n",
       " '634',\n",
       " '557',\n",
       " '472',\n",
       " '85',\n",
       " '361',\n",
       " '76',\n",
       " '1463',\n",
       " '623',\n",
       " '823',\n",
       " '602',\n",
       " '205',\n",
       " '47',\n",
       " '158',\n",
       " '751',\n",
       " '138',\n",
       " '80',\n",
       " '58',\n",
       " '119',\n",
       " '204',\n",
       " '310',\n",
       " '277',\n",
       " '1164',\n",
       " '292',\n",
       " '1378',\n",
       " 'PTS',\n",
       " '736',\n",
       " '1669',\n",
       " '1531',\n",
       " '515',\n",
       " '129',\n",
       " '31',\n",
       " '29',\n",
       " '2',\n",
       " '107',\n",
       " '90',\n",
       " '17',\n",
       " '546',\n",
       " '1865',\n",
       " '1007',\n",
       " '4',\n",
       " '1642',\n",
       " '45',\n",
       " '13',\n",
       " '882',\n",
       " '725',\n",
       " '8',\n",
       " '1028',\n",
       " '921',\n",
       " '338',\n",
       " 'PTS',\n",
       " '495',\n",
       " '205',\n",
       " '53',\n",
       " '164',\n",
       " '83',\n",
       " '77',\n",
       " '67',\n",
       " '29',\n",
       " '147',\n",
       " '392',\n",
       " '1102',\n",
       " '635',\n",
       " '360']"
      ]
     },
     "execution_count": 58,
     "metadata": {},
     "output_type": "execute_result"
    }
   ],
   "source": [
    "basketball_data['PTS'].tolist()"
   ]
  },
  {
   "cell_type": "code",
   "execution_count": null,
   "metadata": {
    "collapsed": false
   },
   "outputs": [],
   "source": [
    "full_names = ['Rank', 'Player', 'Position', 'Age of Player at the start of February 1st of that season', 'Team', 'Games', 'Games Started', 'Minutes Played', 'Field Goals', 'Field Goal Attempts', 'Field Goal Percentage', '3-Point Field Goals', '3-Point Field Goal Attempts', 'FG% on 3-Pt FGAs', '2-Point Field Goals', '2-point Field Goal Attempts', 'FG% on 2-Pt FGAs', 'Effective Field Goal Percentage', 'Free Throws', 'Free Throw Attempts', 'Free Throw Percentage', 'Offensive Rebounds', 'Defensive Rebounds', 'Total Rebounds', 'Assists', 'Steals', 'Blocks', 'Turnovers', 'Personal Fouls', 'Points']\n",
    "\n",
    "original_columns_labels = basketball_data.labels\n",
    "glossary = Table().with_columns([[\"Abbreviation\", original_columns_labels], [\"Full_Name\", full_names]])\n",
    "glossary.show() "
   ]
  },
  {
   "cell_type": "code",
   "execution_count": null,
   "metadata": {
    "collapsed": false
   },
   "outputs": [],
   "source": [
    "version_1 = basketball_data.select([glossary.column(0)[0]] + [glossary.column(0)[3]] + glossary.column(0)[5:].tolist())\n",
    "version_1"
   ]
  },
  {
   "cell_type": "code",
   "execution_count": null,
   "metadata": {
    "collapsed": false
   },
   "outputs": [],
   "source": [
    "v = version_1\n",
    "indecestodrop = []\n",
    "for i in range(v.num_rows):\n",
    "    if ('nan' in np.array(v.row(i)).tolist() or 'PTS' in np.array(v.row(i)).tolist()):\n",
    "        indecestodrop += [i]\n",
    "indecestodrop\n",
    "version_2 = v.exclude(indecestodrop)\n",
    "\n",
    "\n",
    "#Have all rows without 'nan' values\n",
    "version_2"
   ]
  },
  {
   "cell_type": "code",
   "execution_count": null,
   "metadata": {
    "collapsed": false
   },
   "outputs": [],
   "source": [
    "#Finding duplicate rows:\n",
    "g = version_2\n",
    "cache = []\n",
    "duplicateindeces = []\n",
    "for i in range(g.num_rows):\n",
    "    if (g.row(i) in cache):\n",
    "        duplicateindeces += [i]\n",
    "    else:\n",
    "        cache += [g.row(i)]\n",
    "duplicateindeces\n",
    "\n",
    "\n",
    "#Remove said indices:\n",
    "version_3 = version_2.exclude(duplicateindeces)\n",
    "version_3"
   ]
  },
  {
   "cell_type": "code",
   "execution_count": null,
   "metadata": {
    "collapsed": true
   },
   "outputs": [],
   "source": [
    "#SAVE TO FILE:\n",
    "version_3.to_csv(\"part2.csv\")"
   ]
  },
  {
   "cell_type": "code",
   "execution_count": 60,
   "metadata": {
    "collapsed": true
   },
   "outputs": [],
   "source": [
    "labels = version_3.labels\n",
    "for lab in labels:\n",
    "    #Integer conversion block:\n",
    "    try:\n",
    "        newcol = []\n",
    "        for index in range(version_3.num_rows):\n",
    "            newcol += [int(version_3.column(lab)[index])]\n",
    "        version_3 = version_3.with_column(lab, newcol)\n",
    "    #Float conversion block:\n",
    "    except:\n",
    "        newcol = []\n",
    "        for index in range(version_3.num_rows):\n",
    "            newcol += [float(version_3.column(lab)[index])]\n",
    "        version_3 = version_3.with_column(lab, newcol)    "
   ]
  },
  {
   "cell_type": "code",
   "execution_count": 61,
   "metadata": {
    "collapsed": true
   },
   "outputs": [],
   "source": [
    "version_3.to_csv(\"part2.csv\")"
   ]
  },
  {
   "cell_type": "code",
   "execution_count": 64,
   "metadata": {
    "collapsed": true
   },
   "outputs": [],
   "source": [
    "# function that allows us to compute the correlation\n",
    "def corr(table, column_A, column_B):\n",
    "    x = table[column_A]\n",
    "    y = table[column_B]\n",
    "    table.scatter(column_A, column_B, s=10, fit_line=True)  \n",
    "    return np.corrcoef(x,y)"
   ]
  },
  {
   "cell_type": "code",
   "execution_count": 65,
   "metadata": {
    "collapsed": false
   },
   "outputs": [
    {
     "data": {
      "text/plain": [
       "array([[ 1.        , -0.04524196],\n",
       "       [-0.04524196,  1.        ]])"
      ]
     },
     "execution_count": 65,
     "metadata": {},
     "output_type": "execute_result"
    },
    {
     "data": {
      "image/png": "[encoded data removed]",
      "text/plain": [
       "<matplotlib.figure.Figure at 0x10a78f320>"
      ]
     },
     "metadata": {},
     "output_type": "display_data"
    }
   ],
   "source": [
    "corr(version_3, \"Age\",\"PTS\")"
   ]
  },
  {
   "cell_type": "code",
   "execution_count": 66,
   "metadata": {
    "collapsed": true
   },
   "outputs": [],
   "source": [
    "#helpers:\n",
    "def correlation(table, column_A, column_B):\n",
    "    y = table[column_B]\n",
    "    x = table[column_A]\n",
    "    return np.corrcoef(x,y)\n",
    "    \n",
    "\n",
    "def slope(table, x, y):\n",
    "    return correlation(table, x, y)[0][1]\n",
    "\n",
    "def intercept(table, x, y):\n",
    "    return table[y][0] - slope(table, x, y) * table[x][0]"
   ]
  },
  {
   "cell_type": "code",
   "execution_count": 67,
   "metadata": {
    "collapsed": false
   },
   "outputs": [
    {
     "data": {
      "text/plain": [
       "array([[ 1.        ,  0.86811243],\n",
       "       [ 0.86811243,  1.        ]])"
      ]
     },
     "execution_count": 67,
     "metadata": {},
     "output_type": "execute_result"
    },
    {
     "data": {
      "image/png": "[encoded data removed]",
      "text/plain": [
       "<matplotlib.figure.Figure at 0x10bfbfb00>"
      ]
     },
     "metadata": {},
     "output_type": "display_data"
    }
   ],
   "source": [
    "corr(version_3, 'G', 'MP')"
   ]
  },
  {
   "cell_type": "code",
   "execution_count": 68,
   "metadata": {
    "collapsed": false
   },
   "outputs": [
    {
     "data": {
      "text/plain": [
       "800.61606480929822"
      ]
     },
     "execution_count": 68,
     "metadata": {},
     "output_type": "execute_result"
    }
   ],
   "source": [
    "def pred_MP(games):\n",
    "    return games * slope(version_3, 'G', 'MP') + intercept(version_3, 'G', 'MP')\n",
    "\n",
    "residual = pred_MP(22)\n",
    "residual"
   ]
  },
  {
   "cell_type": "code",
   "execution_count": 69,
   "metadata": {
    "collapsed": false
   },
   "outputs": [
    {
     "data": {
      "text/html": [
       "<table border=\"1\" class=\"dataframe\">\n",
       "    <thead>\n",
       "        <tr>\n",
       "            <th>Rk</th> <th>G</th> <th>MP</th>\n",
       "        </tr>\n",
       "    </thead>\n",
       "    <tbody>\n",
       "        <tr>\n",
       "            <td>2   </td> <td>2   </td> <td>15  </td>\n",
       "        </tr>\n",
       "    </tbody>\n",
       "        <tr>\n",
       "            <td>230 </td> <td>2   </td> <td>47  </td>\n",
       "        </tr>\n",
       "    </tbody>\n",
       "        <tr>\n",
       "            <td>208 </td> <td>3   </td> <td>42  </td>\n",
       "        </tr>\n",
       "    </tbody>\n",
       "        <tr>\n",
       "            <td>102 </td> <td>4   </td> <td>55  </td>\n",
       "        </tr>\n",
       "    </tbody>\n",
       "        <tr>\n",
       "            <td>209 </td> <td>4   </td> <td>74  </td>\n",
       "        </tr>\n",
       "    </tbody>\n",
       "        <tr>\n",
       "            <td>23  </td> <td>5   </td> <td>27  </td>\n",
       "        </tr>\n",
       "    </tbody>\n",
       "        <tr>\n",
       "            <td>177 </td> <td>5   </td> <td>35  </td>\n",
       "        </tr>\n",
       "    </tbody>\n",
       "        <tr>\n",
       "            <td>230 </td> <td>5   </td> <td>54  </td>\n",
       "        </tr>\n",
       "    </tbody>\n",
       "        <tr>\n",
       "            <td>457 </td> <td>5   </td> <td>45  </td>\n",
       "        </tr>\n",
       "    </tbody>\n",
       "        <tr>\n",
       "            <td>84  </td> <td>6   </td> <td>120 </td>\n",
       "        </tr>\n",
       "    </tbody>\n",
       "</table>\n",
       "<p>... (492 rows omitted)</p"
      ],
      "text/plain": [
       "Rk   | G    | MP\n",
       "2    | 2    | 15\n",
       "230  | 2    | 47\n",
       "208  | 3    | 42\n",
       "102  | 4    | 55\n",
       "209  | 4    | 74\n",
       "23   | 5    | 27\n",
       "177  | 5    | 35\n",
       "230  | 5    | 54\n",
       "457  | 5    | 45\n",
       "84   | 6    | 120\n",
       "... (492 rows omitted)"
      ]
     },
     "execution_count": 69,
     "metadata": {},
     "output_type": "execute_result"
    }
   ],
   "source": [
    "version_3.sort('G').select(['Rk', 'G', 'MP'])"
   ]
  },
  {
   "cell_type": "code",
   "execution_count": 70,
   "metadata": {
    "collapsed": false
   },
   "outputs": [
    {
     "data": {
      "text/plain": [
       "307777.72985620482"
      ]
     },
     "execution_count": 70,
     "metadata": {},
     "output_type": "execute_result"
    }
   ],
   "source": [
    "#Sum of the residuals is the sum of the errors from the line:\n",
    "\n",
    "#In other words, for each point, calculate its residual, then sum the difference between that and the empirical value:\n",
    "games = version_3.sort('G').select(['Rk', 'G', 'MP'])\n",
    "sum_residuals = 0\n",
    "for i in range(games.num_rows):\n",
    "    sum_residuals += abs(pred_MP(i) - games.take(i)[2][0])\n",
    "    \n",
    "\n",
    "sum_residuals"
   ]
  },
  {
   "cell_type": "code",
   "execution_count": 71,
   "metadata": {
    "collapsed": true
   },
   "outputs": [],
   "source": [
    "import numpy as np\n",
    "import math\n",
    "from datascience import *\n",
    "\n",
    "# linalg for optimization and stats model for LS\n",
    "from numpy.linalg import eigh\n",
    "import pandas as pd\n",
    "import statsmodels.api as sm\n",
    "\n",
    "# plotting\n",
    "import matplotlib\n",
    "matplotlib.use('Agg', warn=False)\n",
    "%matplotlib inline\n",
    "import matplotlib.pyplot as plt\n",
    "plt.style.use('fivethirtyeight')"
   ]
  },
  {
   "cell_type": "code",
   "execution_count": null,
   "metadata": {
    "collapsed": true
   },
   "outputs": [],
   "source": [
    "# Correlation coefficient\n",
    "def corr(table, column_A, column_B):\n",
    "    x = table[column_A]\n",
    "    y = table[column_B]\n",
    "    x_su = (x-np.mean(x))/np.std(x)\n",
    "    y_su = (y-np.mean(y))/np.std(y)\n",
    "    return np.mean(x_su*y_su)\n",
    "\n",
    "# Computes the covariance between two variables\n",
    "def covariance(table, column_A, column_B):\n",
    "    x = table[column_A]\n",
    "    y = table[column_B]\n",
    "    x_dev = (x-np.mean(x))\n",
    "    y_dev = (y-np.mean(y))\n",
    "    return np.mean(x_dev*y_dev)\n",
    "\n",
    "\n",
    "# Slope and intercept of regression line\n",
    "def regress(table, column_x, column_y):\n",
    "    r = corr(table, column_x, column_y)\n",
    "    reg_slope = r*np.std(table[column_y])/np.std(table[column_x])\n",
    "    reg_int = np.mean(table[column_y]) - reg_slope*np.mean(table[column_x])\n",
    "    return np.array([reg_slope, reg_int])\n",
    "\n",
    "# Fitted value; the regression estimate at x=new_x\n",
    "def fit(table, column_x, column_y, new_x):\n",
    "    slope_int = regress(table, column_x, column_y)\n",
    "    return slope_int[0]*new_x + slope_int[1]\n",
    "\n",
    "# Fitted values; the regression estimates lie on a straight line\n",
    "def fitted_values(table, column_x, column_y):\n",
    "    slope_int = regress(table, column_x, column_y)\n",
    "    return slope_int[0]*table[column_x] + slope_int[1]\n",
    "\n",
    "# Residuals: Deviations from the regression line\n",
    "def residuals(table, column_x, column_y):\n",
    "    fitted = fitted_values(table, column_x, column_y)\n",
    "    return table[column_y] - fitted\n",
    "\n",
    "# Scatter plot with fitted (regression) line\n",
    "def scatter_fit(table, column_x, column_y):\n",
    "    plots.scatter(table[column_x], table[column_y], s=10)\n",
    "    plots.plot(table[column_x], fitted_values(table, column_x, column_y), lw=1, color='green')\n",
    "    plots.xlabel(column_x)\n",
    "    plots.ylabel(column_y)\n",
    "    \n",
    "# A residual plot\n",
    "def residual_plot(table, column_x, column_y):\n",
    "    plots.scatter(table[column_x], residuals(table, column_x, column_y), s=10)\n",
    "    xm = np.min(table[column_x])\n",
    "    xM = np.max(table[column_x])\n",
    "    plots.plot([xm, xM], [0, 0], color='k', lw=1)\n",
    "    plots.xlabel(column_x)\n",
    "    plots.ylabel('residual')\n",
    "\n",
    "# computes a covariance matrix\n",
    "def covariance_matrix(table):\n",
    "    cov_matrix = Table().with_column('', table.labels)\n",
    "    for x in table.labels:\n",
    "        cov = []\n",
    "        for y in table.labels:\n",
    "            cov += [covariance(table, x, y)]\n",
    "        cov_matrix[x] = cov\n",
    "    return cov_matrix"
   ]
  },
  {
   "cell_type": "code",
   "execution_count": 72,
   "metadata": {
    "collapsed": false
   },
   "outputs": [
    {
     "data": {
      "text/html": [
       "<table border=\"1\" class=\"dataframe\">\n",
       "    <thead>\n",
       "        <tr>\n",
       "            <th>Rk</th> <th>Age</th> <th>G</th> <th>GS</th> <th>MP</th> <th>FG</th> <th>FGA</th> <th>FG%</th> <th>3P</th> <th>3PA</th> <th>3P%</th> <th>2P</th> <th>2PA</th> <th>2P%</th> <th>eFG%</th> <th>FT</th> <th>FTA</th> <th>FT%</th> <th>ORB</th> <th>DRB</th> <th>TRB</th> <th>AST</th> <th>STL</th> <th>BLK</th> <th>TOV</th> <th>PF</th> <th>PTS</th>\n",
       "        </tr>\n",
       "    </thead>\n",
       "    <tbody>\n",
       "        <tr>\n",
       "            <td>1   </td> <td>25  </td> <td>57  </td> <td>29  </td> <td>831 </td> <td>114 </td> <td>200 </td> <td>0   </td> <td>18  </td> <td>43  </td> <td>0   </td> <td>96  </td> <td>157 </td> <td>0   </td> <td>0   </td> <td>42  </td> <td>56  </td> <td>0   </td> <td>64  </td> <td>115 </td> <td>179 </td> <td>24  </td> <td>26  </td> <td>21  </td> <td>23  </td> <td>101 </td> <td>288 </td>\n",
       "        </tr>\n",
       "    </tbody>\n",
       "        <tr>\n",
       "            <td>2   </td> <td>21  </td> <td>2   </td> <td>0   </td> <td>15  </td> <td>2   </td> <td>6   </td> <td>0   </td> <td>0   </td> <td>1   </td> <td>0   </td> <td>2   </td> <td>5   </td> <td>0   </td> <td>0   </td> <td>3   </td> <td>5   </td> <td>0   </td> <td>0   </td> <td>2   </td> <td>2   </td> <td>3   </td> <td>3   </td> <td>0   </td> <td>2   </td> <td>2   </td> <td>7   </td>\n",
       "        </tr>\n",
       "    </tbody>\n",
       "        <tr>\n",
       "            <td>4   </td> <td>30  </td> <td>70  </td> <td>57  </td> <td>2345</td> <td>349 </td> <td>788 </td> <td>0   </td> <td>88  </td> <td>233 </td> <td>0   </td> <td>261 </td> <td>555 </td> <td>0   </td> <td>0   </td> <td>110 </td> <td>131 </td> <td>0   </td> <td>23  </td> <td>242 </td> <td>265 </td> <td>142 </td> <td>24  </td> <td>10  </td> <td>81  </td> <td>141 </td> <td>896 </td>\n",
       "        </tr>\n",
       "    </tbody>\n",
       "        <tr>\n",
       "            <td>5   </td> <td>27  </td> <td>59  </td> <td>17  </td> <td>861 </td> <td>150 </td> <td>315 </td> <td>0   </td> <td>0   </td> <td>1   </td> <td>0   </td> <td>150 </td> <td>314 </td> <td>0   </td> <td>0   </td> <td>52  </td> <td>62  </td> <td>0   </td> <td>75  </td> <td>194 </td> <td>269 </td> <td>31  </td> <td>19  </td> <td>36  </td> <td>54  </td> <td>134 </td> <td>352 </td>\n",
       "        </tr>\n",
       "    </tbody>\n",
       "        <tr>\n",
       "            <td>7   </td> <td>30  </td> <td>73  </td> <td>73  </td> <td>2242</td> <td>534 </td> <td>1040</td> <td>0   </td> <td>0   </td> <td>16  </td> <td>0   </td> <td>534 </td> <td>1024</td> <td>0   </td> <td>0   </td> <td>255 </td> <td>296 </td> <td>0   </td> <td>175 </td> <td>452 </td> <td>627 </td> <td>110 </td> <td>38  </td> <td>80  </td> <td>98  </td> <td>150 </td> <td>1323</td>\n",
       "        </tr>\n",
       "    </tbody>\n",
       "        <tr>\n",
       "            <td>10  </td> <td>34  </td> <td>64  </td> <td>57  </td> <td>1620</td> <td>215 </td> <td>469 </td> <td>0   </td> <td>15  </td> <td>42  </td> <td>0   </td> <td>200 </td> <td>427 </td> <td>0   </td> <td>0   </td> <td>90  </td> <td>138 </td> <td>0   </td> <td>104 </td> <td>192 </td> <td>296 </td> <td>70  </td> <td>110 </td> <td>18  </td> <td>78  </td> <td>175 </td> <td>535 </td>\n",
       "        </tr>\n",
       "    </tbody>\n",
       "        <tr>\n",
       "            <td>11  </td> <td>25  </td> <td>81  </td> <td>81  </td> <td>2322</td> <td>296 </td> <td>713 </td> <td>0   </td> <td>124 </td> <td>344 </td> <td>0   </td> <td>172 </td> <td>369 </td> <td>0   </td> <td>0   </td> <td>113 </td> <td>154 </td> <td>0   </td> <td>97  </td> <td>399 </td> <td>496 </td> <td>138 </td> <td>71  </td> <td>53  </td> <td>119 </td> <td>168 </td> <td>829 </td>\n",
       "        </tr>\n",
       "    </tbody>\n",
       "        <tr>\n",
       "            <td>13  </td> <td>37  </td> <td>25  </td> <td>13  </td> <td>373 </td> <td>34  </td> <td>65  </td> <td>0   </td> <td>4   </td> <td>12  </td> <td>0   </td> <td>30  </td> <td>53  </td> <td>0   </td> <td>0   </td> <td>25  </td> <td>36  </td> <td>0   </td> <td>34  </td> <td>58  </td> <td>92  </td> <td>12  </td> <td>13  </td> <td>13  </td> <td>8   </td> <td>29  </td> <td>97  </td>\n",
       "        </tr>\n",
       "    </tbody>\n",
       "        <tr>\n",
       "            <td>13  </td> <td>37  </td> <td>7   </td> <td>1   </td> <td>36  </td> <td>4   </td> <td>10  </td> <td>0   </td> <td>2   </td> <td>5   </td> <td>0   </td> <td>2   </td> <td>5   </td> <td>0   </td> <td>0   </td> <td>3   </td> <td>4   </td> <td>0   </td> <td>3   </td> <td>6   </td> <td>9   </td> <td>3   </td> <td>1   </td> <td>3   </td> <td>2   </td> <td>4   </td> <td>13  </td>\n",
       "        </tr>\n",
       "    </tbody>\n",
       "        <tr>\n",
       "            <td>13  </td> <td>37  </td> <td>18  </td> <td>12  </td> <td>337 </td> <td>30  </td> <td>55  </td> <td>0   </td> <td>2   </td> <td>7   </td> <td>0   </td> <td>28  </td> <td>48  </td> <td>0   </td> <td>0   </td> <td>22  </td> <td>32  </td> <td>0   </td> <td>31  </td> <td>52  </td> <td>83  </td> <td>9   </td> <td>12  </td> <td>10  </td> <td>6   </td> <td>25  </td> <td>84  </td>\n",
       "        </tr>\n",
       "    </tbody>\n",
       "</table>\n",
       "<p>... (492 rows omitted)</p"
      ],
      "text/plain": [
       "Rk   | Age  | G    | GS   | MP   | FG   | FGA  | FG%  | 3P   | 3PA  | 3P%  | 2P   | 2PA  | 2P%  | eFG% | FT   | FTA  | FT%  | ORB  | DRB  | TRB  | AST  | STL  | BLK  | TOV  | PF   | PTS\n",
       "1    | 25   | 57   | 29   | 831  | 114  | 200  | 0    | 18   | 43   | 0    | 96   | 157  | 0    | 0    | 42   | 56   | 0    | 64   | 115  | 179  | 24   | 26   | 21   | 23   | 101  | 288\n",
       "2    | 21   | 2    | 0    | 15   | 2    | 6    | 0    | 0    | 1    | 0    | 2    | 5    | 0    | 0    | 3    | 5    | 0    | 0    | 2    | 2    | 3    | 3    | 0    | 2    | 2    | 7\n",
       "4    | 30   | 70   | 57   | 2345 | 349  | 788  | 0    | 88   | 233  | 0    | 261  | 555  | 0    | 0    | 110  | 131  | 0    | 23   | 242  | 265  | 142  | 24   | 10   | 81   | 141  | 896\n",
       "5    | 27   | 59   | 17   | 861  | 150  | 315  | 0    | 0    | 1    | 0    | 150  | 314  | 0    | 0    | 52   | 62   | 0    | 75   | 194  | 269  | 31   | 19   | 36   | 54   | 134  | 352\n",
       "7    | 30   | 73   | 73   | 2242 | 534  | 1040 | 0    | 0    | 16   | 0    | 534  | 1024 | 0    | 0    | 255  | 296  | 0    | 175  | 452  | 627  | 110  | 38   | 80   | 98   | 150  | 1323\n",
       "10   | 34   | 64   | 57   | 1620 | 215  | 469  | 0    | 15   | 42   | 0    | 200  | 427  | 0    | 0    | 90   | 138  | 0    | 104  | 192  | 296  | 70   | 110  | 18   | 78   | 175  | 535\n",
       "11   | 25   | 81   | 81   | 2322 | 296  | 713  | 0    | 124  | 344  | 0    | 172  | 369  | 0    | 0    | 113  | 154  | 0    | 97   | 399  | 496  | 138  | 71   | 53   | 119  | 168  | 829\n",
       "13   | 37   | 25   | 13   | 373  | 34   | 65   | 0    | 4    | 12   | 0    | 30   | 53   | 0    | 0    | 25   | 36   | 0    | 34   | 58   | 92   | 12   | 13   | 13   | 8    | 29   | 97\n",
       "13   | 37   | 7    | 1    | 36   | 4    | 10   | 0    | 2    | 5    | 0    | 2    | 5    | 0    | 0    | 3    | 4    | 0    | 3    | 6    | 9    | 3    | 1    | 3    | 2    | 4    | 13\n",
       "13   | 37   | 18   | 12   | 337  | 30   | 55   | 0    | 2    | 7    | 0    | 28   | 48   | 0    | 0    | 22   | 32   | 0    | 31   | 52   | 83   | 9    | 12   | 10   | 6    | 25   | 84\n",
       "... (492 rows omitted)"
      ]
     },
     "execution_count": 72,
     "metadata": {},
     "output_type": "execute_result"
    }
   ],
   "source": [
    "basketball = Table().read_table(\"part2.csv\")\n",
    "basketball"
   ]
  },
  {
   "cell_type": "code",
   "execution_count": 77,
   "metadata": {
    "collapsed": false
   },
   "outputs": [
    {
     "data": {
      "text/html": [
       "<table border=\"1\" class=\"dataframe\">\n",
       "    <thead>\n",
       "        <tr>\n",
       "            <th>Age</th> <th>G</th> <th>GS</th> <th>MP</th> <th>FG</th> <th>FGA</th> <th>FG%</th> <th>3P</th> <th>3PA</th> <th>3P%</th> <th>2P</th> <th>2PA</th> <th>2P%</th> <th>eFG%</th> <th>FT</th> <th>FTA</th> <th>FT%</th> <th>ORB</th> <th>DRB</th> <th>TRB</th> <th>AST</th> <th>STL</th> <th>BLK</th> <th>TOV</th> <th>PF</th> <th>PTS</th>\n",
       "        </tr>\n",
       "    </thead>\n",
       "    <tbody>\n",
       "        <tr>\n",
       "            <td>25  </td> <td>57  </td> <td>29  </td> <td>831 </td> <td>114 </td> <td>200 </td> <td>0   </td> <td>18  </td> <td>43  </td> <td>0   </td> <td>96  </td> <td>157 </td> <td>0   </td> <td>0   </td> <td>42  </td> <td>56  </td> <td>0   </td> <td>64  </td> <td>115 </td> <td>179 </td> <td>24  </td> <td>26  </td> <td>21  </td> <td>23  </td> <td>101 </td> <td>288 </td>\n",
       "        </tr>\n",
       "    </tbody>\n",
       "        <tr>\n",
       "            <td>21  </td> <td>2   </td> <td>0   </td> <td>15  </td> <td>2   </td> <td>6   </td> <td>0   </td> <td>0   </td> <td>1   </td> <td>0   </td> <td>2   </td> <td>5   </td> <td>0   </td> <td>0   </td> <td>3   </td> <td>5   </td> <td>0   </td> <td>0   </td> <td>2   </td> <td>2   </td> <td>3   </td> <td>3   </td> <td>0   </td> <td>2   </td> <td>2   </td> <td>7   </td>\n",
       "        </tr>\n",
       "    </tbody>\n",
       "        <tr>\n",
       "            <td>30  </td> <td>70  </td> <td>57  </td> <td>2345</td> <td>349 </td> <td>788 </td> <td>0   </td> <td>88  </td> <td>233 </td> <td>0   </td> <td>261 </td> <td>555 </td> <td>0   </td> <td>0   </td> <td>110 </td> <td>131 </td> <td>0   </td> <td>23  </td> <td>242 </td> <td>265 </td> <td>142 </td> <td>24  </td> <td>10  </td> <td>81  </td> <td>141 </td> <td>896 </td>\n",
       "        </tr>\n",
       "    </tbody>\n",
       "        <tr>\n",
       "            <td>27  </td> <td>59  </td> <td>17  </td> <td>861 </td> <td>150 </td> <td>315 </td> <td>0   </td> <td>0   </td> <td>1   </td> <td>0   </td> <td>150 </td> <td>314 </td> <td>0   </td> <td>0   </td> <td>52  </td> <td>62  </td> <td>0   </td> <td>75  </td> <td>194 </td> <td>269 </td> <td>31  </td> <td>19  </td> <td>36  </td> <td>54  </td> <td>134 </td> <td>352 </td>\n",
       "        </tr>\n",
       "    </tbody>\n",
       "        <tr>\n",
       "            <td>30  </td> <td>73  </td> <td>73  </td> <td>2242</td> <td>534 </td> <td>1040</td> <td>0   </td> <td>0   </td> <td>16  </td> <td>0   </td> <td>534 </td> <td>1024</td> <td>0   </td> <td>0   </td> <td>255 </td> <td>296 </td> <td>0   </td> <td>175 </td> <td>452 </td> <td>627 </td> <td>110 </td> <td>38  </td> <td>80  </td> <td>98  </td> <td>150 </td> <td>1323</td>\n",
       "        </tr>\n",
       "    </tbody>\n",
       "        <tr>\n",
       "            <td>34  </td> <td>64  </td> <td>57  </td> <td>1620</td> <td>215 </td> <td>469 </td> <td>0   </td> <td>15  </td> <td>42  </td> <td>0   </td> <td>200 </td> <td>427 </td> <td>0   </td> <td>0   </td> <td>90  </td> <td>138 </td> <td>0   </td> <td>104 </td> <td>192 </td> <td>296 </td> <td>70  </td> <td>110 </td> <td>18  </td> <td>78  </td> <td>175 </td> <td>535 </td>\n",
       "        </tr>\n",
       "    </tbody>\n",
       "        <tr>\n",
       "            <td>25  </td> <td>81  </td> <td>81  </td> <td>2322</td> <td>296 </td> <td>713 </td> <td>0   </td> <td>124 </td> <td>344 </td> <td>0   </td> <td>172 </td> <td>369 </td> <td>0   </td> <td>0   </td> <td>113 </td> <td>154 </td> <td>0   </td> <td>97  </td> <td>399 </td> <td>496 </td> <td>138 </td> <td>71  </td> <td>53  </td> <td>119 </td> <td>168 </td> <td>829 </td>\n",
       "        </tr>\n",
       "    </tbody>\n",
       "        <tr>\n",
       "            <td>37  </td> <td>25  </td> <td>13  </td> <td>373 </td> <td>34  </td> <td>65  </td> <td>0   </td> <td>4   </td> <td>12  </td> <td>0   </td> <td>30  </td> <td>53  </td> <td>0   </td> <td>0   </td> <td>25  </td> <td>36  </td> <td>0   </td> <td>34  </td> <td>58  </td> <td>92  </td> <td>12  </td> <td>13  </td> <td>13  </td> <td>8   </td> <td>29  </td> <td>97  </td>\n",
       "        </tr>\n",
       "    </tbody>\n",
       "        <tr>\n",
       "            <td>37  </td> <td>7   </td> <td>1   </td> <td>36  </td> <td>4   </td> <td>10  </td> <td>0   </td> <td>2   </td> <td>5   </td> <td>0   </td> <td>2   </td> <td>5   </td> <td>0   </td> <td>0   </td> <td>3   </td> <td>4   </td> <td>0   </td> <td>3   </td> <td>6   </td> <td>9   </td> <td>3   </td> <td>1   </td> <td>3   </td> <td>2   </td> <td>4   </td> <td>13  </td>\n",
       "        </tr>\n",
       "    </tbody>\n",
       "        <tr>\n",
       "            <td>37  </td> <td>18  </td> <td>12  </td> <td>337 </td> <td>30  </td> <td>55  </td> <td>0   </td> <td>2   </td> <td>7   </td> <td>0   </td> <td>28  </td> <td>48  </td> <td>0   </td> <td>0   </td> <td>22  </td> <td>32  </td> <td>0   </td> <td>31  </td> <td>52  </td> <td>83  </td> <td>9   </td> <td>12  </td> <td>10  </td> <td>6   </td> <td>25  </td> <td>84  </td>\n",
       "        </tr>\n",
       "    </tbody>\n",
       "</table>\n",
       "<p>... (492 rows omitted)</p"
      ],
      "text/plain": [
       "Age  | G    | GS   | MP   | FG   | FGA  | FG%  | 3P   | 3PA  | 3P%  | 2P   | 2PA  | 2P%  | eFG% | FT   | FTA  | FT%  | ORB  | DRB  | TRB  | AST  | STL  | BLK  | TOV  | PF   | PTS\n",
       "25   | 57   | 29   | 831  | 114  | 200  | 0    | 18   | 43   | 0    | 96   | 157  | 0    | 0    | 42   | 56   | 0    | 64   | 115  | 179  | 24   | 26   | 21   | 23   | 101  | 288\n",
       "21   | 2    | 0    | 15   | 2    | 6    | 0    | 0    | 1    | 0    | 2    | 5    | 0    | 0    | 3    | 5    | 0    | 0    | 2    | 2    | 3    | 3    | 0    | 2    | 2    | 7\n",
       "30   | 70   | 57   | 2345 | 349  | 788  | 0    | 88   | 233  | 0    | 261  | 555  | 0    | 0    | 110  | 131  | 0    | 23   | 242  | 265  | 142  | 24   | 10   | 81   | 141  | 896\n",
       "27   | 59   | 17   | 861  | 150  | 315  | 0    | 0    | 1    | 0    | 150  | 314  | 0    | 0    | 52   | 62   | 0    | 75   | 194  | 269  | 31   | 19   | 36   | 54   | 134  | 352\n",
       "30   | 73   | 73   | 2242 | 534  | 1040 | 0    | 0    | 16   | 0    | 534  | 1024 | 0    | 0    | 255  | 296  | 0    | 175  | 452  | 627  | 110  | 38   | 80   | 98   | 150  | 1323\n",
       "34   | 64   | 57   | 1620 | 215  | 469  | 0    | 15   | 42   | 0    | 200  | 427  | 0    | 0    | 90   | 138  | 0    | 104  | 192  | 296  | 70   | 110  | 18   | 78   | 175  | 535\n",
       "25   | 81   | 81   | 2322 | 296  | 713  | 0    | 124  | 344  | 0    | 172  | 369  | 0    | 0    | 113  | 154  | 0    | 97   | 399  | 496  | 138  | 71   | 53   | 119  | 168  | 829\n",
       "37   | 25   | 13   | 373  | 34   | 65   | 0    | 4    | 12   | 0    | 30   | 53   | 0    | 0    | 25   | 36   | 0    | 34   | 58   | 92   | 12   | 13   | 13   | 8    | 29   | 97\n",
       "37   | 7    | 1    | 36   | 4    | 10   | 0    | 2    | 5    | 0    | 2    | 5    | 0    | 0    | 3    | 4    | 0    | 3    | 6    | 9    | 3    | 1    | 3    | 2    | 4    | 13\n",
       "37   | 18   | 12   | 337  | 30   | 55   | 0    | 2    | 7    | 0    | 28   | 48   | 0    | 0    | 22   | 32   | 0    | 31   | 52   | 83   | 9    | 12   | 10   | 6    | 25   | 84\n",
       "... (492 rows omitted)"
      ]
     },
     "execution_count": 77,
     "metadata": {},
     "output_type": "execute_result"
    }
   ],
   "source": [
    "basketball_numbers = basketball.drop(0)\n",
    "basketball_numbers"
   ]
  },
  {
   "cell_type": "code",
   "execution_count": 78,
   "metadata": {
    "collapsed": true
   },
   "outputs": [],
   "source": [
    "def subtract_means(table):\n",
    "    means = []\n",
    "    def getMean(arr):\n",
    "        return np.mean(arr)\n",
    "\n",
    "    for col in table.columns:\n",
    "        means += [getMean(col)]\n",
    "    return means\n",
    "means = np.array(subtract_means(basketball_numbers))"
   ]
  },
  {
   "cell_type": "code",
   "execution_count": 79,
   "metadata": {
    "collapsed": false
   },
   "outputs": [
    {
     "data": {
      "text/html": [
       "<table border=\"1\" class=\"dataframe\">\n",
       "    <thead>\n",
       "        <tr>\n",
       "            <th>Age</th> <th>G</th> <th>GS</th> <th>MP</th> <th>FG</th> <th>FGA</th> <th>FG%</th> <th>3P</th> <th>3PA</th> <th>3P%</th> <th>2P</th> <th>2PA</th> <th>2P%</th> <th>eFG%</th> <th>FT</th> <th>FTA</th> <th>FT%</th> <th>ORB</th> <th>DRB</th> <th>TRB</th> <th>AST</th> <th>STL</th> <th>BLK</th> <th>TOV</th> <th>PF</th> <th>PTS</th>\n",
       "        </tr>\n",
       "    </thead>\n",
       "    <tbody>\n",
       "        <tr>\n",
       "            <td>-1  </td> <td>5   </td> <td>4   </td> <td>-351 </td> <td>-72 </td> <td>-217</td> <td>0   </td> <td>-25 </td> <td>-80 </td> <td>0   </td> <td>-46 </td> <td>-136</td> <td>0   </td> <td>0   </td> <td>-44 </td> <td>-56 </td> <td>0   </td> <td>17  </td> <td>-42 </td> <td>-25 </td> <td>-88 </td> <td>-12 </td> <td>0   </td> <td>-44 </td> <td>3   </td> <td>-214</td>\n",
       "        </tr>\n",
       "    </tbody>\n",
       "        <tr>\n",
       "            <td>-5  </td> <td>-49 </td> <td>-24 </td> <td>-1167</td> <td>-184</td> <td>-411</td> <td>0   </td> <td>-43 </td> <td>-122</td> <td>0   </td> <td>-140</td> <td>-288</td> <td>0   </td> <td>0   </td> <td>-83 </td> <td>-107</td> <td>0   </td> <td>-46 </td> <td>-155</td> <td>-202</td> <td>-109</td> <td>-35 </td> <td>-21 </td> <td>-65 </td> <td>-95 </td> <td>-495</td>\n",
       "        </tr>\n",
       "    </tbody>\n",
       "        <tr>\n",
       "            <td>3   </td> <td>18  </td> <td>32  </td> <td>1162 </td> <td>162 </td> <td>370 </td> <td>0   </td> <td>44  </td> <td>109 </td> <td>0   </td> <td>118 </td> <td>261 </td> <td>0   </td> <td>0   </td> <td>23  </td> <td>18  </td> <td>0   </td> <td>-23 </td> <td>84  </td> <td>60  </td> <td>29  </td> <td>-14 </td> <td>-11 </td> <td>13  </td> <td>43  </td> <td>393 </td>\n",
       "        </tr>\n",
       "    </tbody>\n",
       "        <tr>\n",
       "            <td>0   </td> <td>7   </td> <td>-7  </td> <td>-321 </td> <td>-36 </td> <td>-102</td> <td>0   </td> <td>-43 </td> <td>-122</td> <td>0   </td> <td>7   </td> <td>20  </td> <td>0   </td> <td>0   </td> <td>-34 </td> <td>-50 </td> <td>0   </td> <td>28  </td> <td>36  </td> <td>64  </td> <td>-81 </td> <td>-19 </td> <td>14  </td> <td>-13 </td> <td>36  </td> <td>-150</td>\n",
       "        </tr>\n",
       "    </tbody>\n",
       "        <tr>\n",
       "            <td>3   </td> <td>21  </td> <td>48  </td> <td>1059 </td> <td>347 </td> <td>622 </td> <td>0   </td> <td>-43 </td> <td>-107</td> <td>0   </td> <td>391 </td> <td>730 </td> <td>0   </td> <td>0   </td> <td>168 </td> <td>183 </td> <td>0   </td> <td>128 </td> <td>294 </td> <td>422 </td> <td>-2  </td> <td>0   </td> <td>58  </td> <td>30  </td> <td>52  </td> <td>820 </td>\n",
       "        </tr>\n",
       "    </tbody>\n",
       "        <tr>\n",
       "            <td>7   </td> <td>12  </td> <td>32  </td> <td>437  </td> <td>28  </td> <td>51  </td> <td>0   </td> <td>-28 </td> <td>-81 </td> <td>0   </td> <td>57  </td> <td>133 </td> <td>0   </td> <td>0   </td> <td>3   </td> <td>25  </td> <td>0   </td> <td>57  </td> <td>34  </td> <td>91  </td> <td>-42 </td> <td>71  </td> <td>-3  </td> <td>10  </td> <td>77  </td> <td>32  </td>\n",
       "        </tr>\n",
       "    </tbody>\n",
       "        <tr>\n",
       "            <td>-1  </td> <td>29  </td> <td>56  </td> <td>1139 </td> <td>109 </td> <td>295 </td> <td>0   </td> <td>80  </td> <td>220 </td> <td>0   </td> <td>29  </td> <td>75  </td> <td>0   </td> <td>0   </td> <td>26  </td> <td>41  </td> <td>0   </td> <td>50  </td> <td>241 </td> <td>291 </td> <td>25  </td> <td>32  </td> <td>31  </td> <td>51  </td> <td>70  </td> <td>326 </td>\n",
       "        </tr>\n",
       "    </tbody>\n",
       "        <tr>\n",
       "            <td>10  </td> <td>-26 </td> <td>-11 </td> <td>-809 </td> <td>-152</td> <td>-352</td> <td>0   </td> <td>-39 </td> <td>-111</td> <td>0   </td> <td>-112</td> <td>-240</td> <td>0   </td> <td>0   </td> <td>-61 </td> <td>-76 </td> <td>0   </td> <td>-12 </td> <td>-99 </td> <td>-112</td> <td>-100</td> <td>-25 </td> <td>-8  </td> <td>-59 </td> <td>-68 </td> <td>-405</td>\n",
       "        </tr>\n",
       "    </tbody>\n",
       "        <tr>\n",
       "            <td>10  </td> <td>-44 </td> <td>-23 </td> <td>-1146</td> <td>-182</td> <td>-407</td> <td>0   </td> <td>-41 </td> <td>-118</td> <td>0   </td> <td>-140</td> <td>-288</td> <td>0   </td> <td>0   </td> <td>-83 </td> <td>-108</td> <td>0   </td> <td>-43 </td> <td>-151</td> <td>-195</td> <td>-109</td> <td>-37 </td> <td>-18 </td> <td>-65 </td> <td>-93 </td> <td>-489</td>\n",
       "        </tr>\n",
       "    </tbody>\n",
       "        <tr>\n",
       "            <td>10  </td> <td>-33 </td> <td>-12 </td> <td>-845 </td> <td>-156</td> <td>-362</td> <td>0   </td> <td>-41 </td> <td>-116</td> <td>0   </td> <td>-114</td> <td>-245</td> <td>0   </td> <td>0   </td> <td>-64 </td> <td>-80 </td> <td>0   </td> <td>-15 </td> <td>-105</td> <td>-121</td> <td>-103</td> <td>-26 </td> <td>-11 </td> <td>-61 </td> <td>-72 </td> <td>-418</td>\n",
       "        </tr>\n",
       "    </tbody>\n",
       "</table>\n",
       "<p>... (492 rows omitted)</p"
      ],
      "text/plain": [
       "Age  | G    | GS   | MP    | FG   | FGA  | FG%  | 3P   | 3PA  | 3P%  | 2P   | 2PA  | 2P%  | eFG% | FT   | FTA  | FT%  | ORB  | DRB  | TRB  | AST  | STL  | BLK  | TOV  | PF   | PTS\n",
       "-1   | 5    | 4    | -351  | -72  | -217 | 0    | -25  | -80  | 0    | -46  | -136 | 0    | 0    | -44  | -56  | 0    | 17   | -42  | -25  | -88  | -12  | 0    | -44  | 3    | -214\n",
       "-5   | -49  | -24  | -1167 | -184 | -411 | 0    | -43  | -122 | 0    | -140 | -288 | 0    | 0    | -83  | -107 | 0    | -46  | -155 | -202 | -109 | -35  | -21  | -65  | -95  | -495\n",
       "3    | 18   | 32   | 1162  | 162  | 370  | 0    | 44   | 109  | 0    | 118  | 261  | 0    | 0    | 23   | 18   | 0    | -23  | 84   | 60   | 29   | -14  | -11  | 13   | 43   | 393\n",
       "0    | 7    | -7   | -321  | -36  | -102 | 0    | -43  | -122 | 0    | 7    | 20   | 0    | 0    | -34  | -50  | 0    | 28   | 36   | 64   | -81  | -19  | 14   | -13  | 36   | -150\n",
       "3    | 21   | 48   | 1059  | 347  | 622  | 0    | -43  | -107 | 0    | 391  | 730  | 0    | 0    | 168  | 183  | 0    | 128  | 294  | 422  | -2   | 0    | 58   | 30   | 52   | 820\n",
       "7    | 12   | 32   | 437   | 28   | 51   | 0    | -28  | -81  | 0    | 57   | 133  | 0    | 0    | 3    | 25   | 0    | 57   | 34   | 91   | -42  | 71   | -3   | 10   | 77   | 32\n",
       "-1   | 29   | 56   | 1139  | 109  | 295  | 0    | 80   | 220  | 0    | 29   | 75   | 0    | 0    | 26   | 41   | 0    | 50   | 241  | 291  | 25   | 32   | 31   | 51   | 70   | 326\n",
       "10   | -26  | -11  | -809  | -152 | -352 | 0    | -39  | -111 | 0    | -112 | -240 | 0    | 0    | -61  | -76  | 0    | -12  | -99  | -112 | -100 | -25  | -8   | -59  | -68  | -405\n",
       "10   | -44  | -23  | -1146 | -182 | -407 | 0    | -41  | -118 | 0    | -140 | -288 | 0    | 0    | -83  | -108 | 0    | -43  | -151 | -195 | -109 | -37  | -18  | -65  | -93  | -489\n",
       "10   | -33  | -12  | -845  | -156 | -362 | 0    | -41  | -116 | 0    | -114 | -245 | 0    | 0    | -64  | -80  | 0    | -15  | -105 | -121 | -103 | -26  | -11  | -61  | -72  | -418\n",
       "... (492 rows omitted)"
      ]
     },
     "execution_count": 79,
     "metadata": {},
     "output_type": "execute_result"
    }
   ],
   "source": [
    "def subtract_means(t):\n",
    "    deviations = t\n",
    "    index = 0\n",
    "    for i in np.arange(0, t.num_columns):\n",
    "        for rowIndex in range(len(t.column(i))):\n",
    "            deviations.column(i)[rowIndex] = t.column(i)[rowIndex] - means[index]\n",
    "\n",
    "        index += 1\n",
    "    return deviations\n",
    "        \n",
    "deviations = subtract_means(basketball_numbers)\n",
    "deviations"
   ]
  },
  {
   "cell_type": "code",
   "execution_count": 80,
   "metadata": {
    "collapsed": true
   },
   "outputs": [],
   "source": [
    "deviationMeans = subtract_means(deviations)\n",
    "#The deviations are all approxiamtely 0, because the mean of an array of deviations is 0 "
   ]
  },
  {
   "cell_type": "code",
   "execution_count": 81,
   "metadata": {
    "collapsed": false
   },
   "outputs": [
    {
     "data": {
      "text/html": [
       "<table border=\"1\" class=\"dataframe\">\n",
       "    <thead>\n",
       "        <tr>\n",
       "            <th></th> <th>Age</th> <th>G</th> <th>GS</th> <th>MP</th> <th>FG</th> <th>FGA</th> <th>FG%</th> <th>3P</th> <th>3PA</th> <th>3P%</th> <th>2P</th> <th>2PA</th> <th>2P%</th> <th>eFG%</th> <th>FT</th> <th>FTA</th> <th>FT%</th> <th>ORB</th> <th>DRB</th> <th>TRB</th> <th>AST</th> <th>STL</th> <th>BLK</th> <th>TOV</th> <th>PF</th> <th>PTS</th>\n",
       "        </tr>\n",
       "    </thead>\n",
       "    <tbody>\n",
       "        <tr>\n",
       "            <td>Age </td> <td>15.6749 </td> <td>-2.33614</td> <td>-0.42835</td> <td>-102.582</td> <td>-37.531</td> <td>-79.2359</td> <td>0   </td> <td>3.58229</td> <td>5.79532</td> <td>0   </td> <td>-41.1431</td> <td>-85.0799</td> <td>0   </td> <td>0   </td> <td>-21.3525</td> <td>-37.1075</td> <td>0   </td> <td>-18.3605</td> <td>-25.3797</td> <td>-44.0173</td> <td>14.4002</td> <td>-5.49184</td> <td>-7.24044</td> <td>-15.0679</td> <td>-14.7463</td> <td>-93.0982</td>\n",
       "        </tr>\n",
       "    </tbody>\n",
       "        <tr>\n",
       "            <td>G   </td> <td>-2.33614</td> <td>540.438 </td> <td>386.596 </td> <td>16540   </td> <td>2741.18</td> <td>6018.41 </td> <td>0   </td> <td>632.108</td> <td>1759.12</td> <td>0   </td> <td>2099.88 </td> <td>4249.55 </td> <td>0   </td> <td>0   </td> <td>1285.55 </td> <td>1665.52 </td> <td>0   </td> <td>682.732 </td> <td>2283.27 </td> <td>2975.44 </td> <td>1578.31</td> <td>540.62  </td> <td>319.071 </td> <td>944.899 </td> <td>1270.53 </td> <td>7430.66 </td>\n",
       "        </tr>\n",
       "    </tbody>\n",
       "        <tr>\n",
       "            <td>GS  </td> <td>-0.42835</td> <td>386.596 </td> <td>753.697 </td> <td>18743.1 </td> <td>3551.67</td> <td>7630.99 </td> <td>0   </td> <td>721.113</td> <td>1952   </td> <td>0   </td> <td>2820.08 </td> <td>5668.41 </td> <td>0   </td> <td>0   </td> <td>1815.98 </td> <td>2345.7  </td> <td>0   </td> <td>831.597 </td> <td>2813.23 </td> <td>3656.45 </td> <td>2101.42</td> <td>664.657 </td> <td>425.284 </td> <td>1206.27 </td> <td>1281.47 </td> <td>9679.6  </td>\n",
       "        </tr>\n",
       "    </tbody>\n",
       "        <tr>\n",
       "            <td>MP  </td> <td>-102.582</td> <td>16540   </td> <td>18743.1 </td> <td>672787  </td> <td>121372 </td> <td>265837  </td> <td>0   </td> <td>27695  </td> <td>76146.5</td> <td>0   </td> <td>93282.7 </td> <td>189284  </td> <td>0   </td> <td>0   </td> <td>61383.7 </td> <td>78351.5 </td> <td>0   </td> <td>25326.8 </td> <td>92458   </td> <td>118150  </td> <td>73375.2</td> <td>23228.3 </td> <td>12491.6 </td> <td>41631.6 </td> <td>46395.8 </td> <td>333218  </td>\n",
       "        </tr>\n",
       "    </tbody>\n",
       "        <tr>\n",
       "            <td>FG  </td> <td>-37.531 </td> <td>2741.18 </td> <td>3551.67 </td> <td>121372  </td> <td>25731.5</td> <td>55338.9 </td> <td>0   </td> <td>5265.47</td> <td>14229.2</td> <td>0   </td> <td>20394.1 </td> <td>41033   </td> <td>0   </td> <td>0   </td> <td>13428.2 </td> <td>16878.2 </td> <td>0   </td> <td>4865.17 </td> <td>17640   </td> <td>22574.3 </td> <td>14506.3</td> <td>4234.95 </td> <td>2414.73 </td> <td>8448.75 </td> <td>8019.91 </td> <td>70436.5 </td>\n",
       "        </tr>\n",
       "    </tbody>\n",
       "        <tr>\n",
       "            <td>FGA </td> <td>-79.2359</td> <td>6018.41 </td> <td>7630.99 </td> <td>265837  </td> <td>55338.9</td> <td>121760  </td> <td>0   </td> <td>12494.8</td> <td>34140.6</td> <td>0   </td> <td>42676.7 </td> <td>87441.9 </td> <td>0   </td> <td>0   </td> <td>29258.4 </td> <td>36238.6 </td> <td>0   </td> <td>9269.82 </td> <td>36446.9 </td> <td>45853.2 </td> <td>32658.6</td> <td>9384.42 </td> <td>4639.85 </td> <td>18571.2 </td> <td>17295.5 </td> <td>153050  </td>\n",
       "        </tr>\n",
       "    </tbody>\n",
       "        <tr>\n",
       "            <td>FG% </td> <td>0       </td> <td>0       </td> <td>0       </td> <td>0       </td> <td>0      </td> <td>0       </td> <td>0   </td> <td>0      </td> <td>0      </td> <td>0   </td> <td>0       </td> <td>0       </td> <td>0   </td> <td>0   </td> <td>0       </td> <td>0       </td> <td>0   </td> <td>0       </td> <td>0       </td> <td>0       </td> <td>0      </td> <td>0       </td> <td>0       </td> <td>0       </td> <td>0       </td> <td>0       </td>\n",
       "        </tr>\n",
       "    </tbody>\n",
       "        <tr>\n",
       "            <td>3P  </td> <td>3.58229 </td> <td>632.108 </td> <td>721.113 </td> <td>27695   </td> <td>5265.47</td> <td>12494.8 </td> <td>0   </td> <td>2502.15</td> <td>6558.72</td> <td>0   </td> <td>2736.29 </td> <td>5909.82 </td> <td>0   </td> <td>0   </td> <td>2632.93 </td> <td>2932.29 </td> <td>0   </td> <td>54.8123 </td> <td>2523.75 </td> <td>2582.23 </td> <td>3458.95</td> <td>1051.09 </td> <td>107.224 </td> <td>1739.53 </td> <td>1593.74 </td> <td>15737.2 </td>\n",
       "        </tr>\n",
       "    </tbody>\n",
       "        <tr>\n",
       "            <td>3PA </td> <td>5.79532 </td> <td>1759.12 </td> <td>1952    </td> <td>76146.5 </td> <td>14229.2</td> <td>34140.6 </td> <td>0   </td> <td>6558.72</td> <td>17572.2</td> <td>0   </td> <td>7597.78 </td> <td>16496.3 </td> <td>0   </td> <td>0   </td> <td>7304.12 </td> <td>8195.35 </td> <td>0   </td> <td>218.734 </td> <td>7016.04 </td> <td>7246.14 </td> <td>9529.42</td> <td>2896.41 </td> <td>334.291 </td> <td>4823.41 </td> <td>4427.18 </td> <td>42514   </td>\n",
       "        </tr>\n",
       "    </tbody>\n",
       "        <tr>\n",
       "            <td>3P% </td> <td>0       </td> <td>0       </td> <td>0       </td> <td>0       </td> <td>0      </td> <td>0       </td> <td>0   </td> <td>0      </td> <td>0      </td> <td>0   </td> <td>0       </td> <td>0       </td> <td>0   </td> <td>0   </td> <td>0       </td> <td>0       </td> <td>0   </td> <td>0       </td> <td>0       </td> <td>0       </td> <td>0      </td> <td>0       </td> <td>0       </td> <td>0       </td> <td>0       </td> <td>0       </td>\n",
       "        </tr>\n",
       "    </tbody>\n",
       "</table>\n",
       "<p>... (16 rows omitted)</p"
      ],
      "text/plain": [
       "     | Age      | G        | GS       | MP       | FG      | FGA      | FG%  | 3P      | 3PA     | 3P%  | 2P       | 2PA      | 2P%  | eFG% | FT       | FTA      | FT%  | ORB      | DRB      | TRB      | AST     | STL      | BLK      | TOV      | PF       | PTS\n",
       "Age  | 15.6749  | -2.33614 | -0.42835 | -102.582 | -37.531 | -79.2359 | 0    | 3.58229 | 5.79532 | 0    | -41.1431 | -85.0799 | 0    | 0    | -21.3525 | -37.1075 | 0    | -18.3605 | -25.3797 | -44.0173 | 14.4002 | -5.49184 | -7.24044 | -15.0679 | -14.7463 | -93.0982\n",
       "G    | -2.33614 | 540.438  | 386.596  | 16540    | 2741.18 | 6018.41  | 0    | 632.108 | 1759.12 | 0    | 2099.88  | 4249.55  | 0    | 0    | 1285.55  | 1665.52  | 0    | 682.732  | 2283.27  | 2975.44  | 1578.31 | 540.62   | 319.071  | 944.899  | 1270.53  | 7430.66\n",
       "GS   | -0.42835 | 386.596  | 753.697  | 18743.1  | 3551.67 | 7630.99  | 0    | 721.113 | 1952    | 0    | 2820.08  | 5668.41  | 0    | 0    | 1815.98  | 2345.7   | 0    | 831.597  | 2813.23  | 3656.45  | 2101.42 | 664.657  | 425.284  | 1206.27  | 1281.47  | 9679.6\n",
       "MP   | -102.582 | 16540    | 18743.1  | 672787   | 121372  | 265837   | 0    | 27695   | 76146.5 | 0    | 93282.7  | 189284   | 0    | 0    | 61383.7  | 78351.5  | 0    | 25326.8  | 92458    | 118150   | 73375.2 | 23228.3  | 12491.6  | 41631.6  | 46395.8  | 333218\n",
       "FG   | -37.531  | 2741.18  | 3551.67  | 121372   | 25731.5 | 55338.9  | 0    | 5265.47 | 14229.2 | 0    | 20394.1  | 41033    | 0    | 0    | 13428.2  | 16878.2  | 0    | 4865.17  | 17640    | 22574.3  | 14506.3 | 4234.95  | 2414.73  | 8448.75  | 8019.91  | 70436.5\n",
       "FGA  | -79.2359 | 6018.41  | 7630.99  | 265837   | 55338.9 | 121760   | 0    | 12494.8 | 34140.6 | 0    | 42676.7  | 87441.9  | 0    | 0    | 29258.4  | 36238.6  | 0    | 9269.82  | 36446.9  | 45853.2  | 32658.6 | 9384.42  | 4639.85  | 18571.2  | 17295.5  | 153050\n",
       "FG%  | 0        | 0        | 0        | 0        | 0       | 0        | 0    | 0       | 0       | 0    | 0        | 0        | 0    | 0    | 0        | 0        | 0    | 0        | 0        | 0        | 0       | 0        | 0        | 0        | 0        | 0\n",
       "3P   | 3.58229  | 632.108  | 721.113  | 27695    | 5265.47 | 12494.8  | 0    | 2502.15 | 6558.72 | 0    | 2736.29  | 5909.82  | 0    | 0    | 2632.93  | 2932.29  | 0    | 54.8123  | 2523.75  | 2582.23  | 3458.95 | 1051.09  | 107.224  | 1739.53  | 1593.74  | 15737.2\n",
       "3PA  | 5.79532  | 1759.12  | 1952     | 76146.5  | 14229.2 | 34140.6  | 0    | 6558.72 | 17572.2 | 0    | 7597.78  | 16496.3  | 0    | 0    | 7304.12  | 8195.35  | 0    | 218.734  | 7016.04  | 7246.14  | 9529.42 | 2896.41  | 334.291  | 4823.41  | 4427.18  | 42514\n",
       "3P%  | 0        | 0        | 0        | 0        | 0       | 0        | 0    | 0       | 0       | 0    | 0        | 0        | 0    | 0    | 0        | 0        | 0    | 0        | 0        | 0        | 0       | 0        | 0        | 0        | 0        | 0\n",
       "... (16 rows omitted)"
      ]
     },
     "execution_count": 81,
     "metadata": {},
     "output_type": "execute_result"
    }
   ],
   "source": [
    "cov_table = covariance_matrix(deviations)\n",
    "cov_matrix = np.matrix(cov_table.columns[1:])\n",
    "cov_table"
   ]
  },
  {
   "cell_type": "code",
   "execution_count": 82,
   "metadata": {
    "collapsed": false
   },
   "outputs": [
    {
     "data": {
      "text/plain": [
       "matrix([[ True,  True,  True, ...,  True,  True,  True],\n",
       "        [ True,  True,  True, ...,  True,  True,  True],\n",
       "        [ True,  True,  True, ...,  True,  True,  True],\n",
       "        ..., \n",
       "        [ True,  True,  True, ...,  True,  True,  True],\n",
       "        [ True,  True,  True, ...,  True,  True,  True],\n",
       "        [ True,  True,  True, ...,  True,  True,  True]], dtype=bool)"
      ]
     },
     "execution_count": 82,
     "metadata": {},
     "output_type": "execute_result"
    }
   ],
   "source": [
    "cov_matrix.T == cov_matrix"
   ]
  },
  {
   "cell_type": "code",
   "execution_count": 83,
   "metadata": {
    "collapsed": false
   },
   "outputs": [
    {
     "data": {
      "text/plain": [
       "23.247330555619811"
      ]
     },
     "execution_count": 83,
     "metadata": {},
     "output_type": "execute_result"
    }
   ],
   "source": [
    "variance = cov_table['G'][1]\n",
    "variance ** (1/2)"
   ]
  },
  {
   "cell_type": "code",
   "execution_count": 85,
   "metadata": {
    "collapsed": false
   },
   "outputs": [
    {
     "data": {
      "text/plain": [
       "True"
      ]
     },
     "execution_count": 85,
     "metadata": {},
     "output_type": "execute_result"
    }
   ],
   "source": [
    "variance ** (1/2) ==  np.std(deviations['G'])"
   ]
  },
  {
   "cell_type": "code",
   "execution_count": 86,
   "metadata": {
    "collapsed": false
   },
   "outputs": [
    {
     "data": {
      "text/plain": [
       "matrix([[  1.56749456e+01,  -2.33614149e+00,  -4.28350344e-01, ...,  -1.50678759e+01,\n",
       "          -1.47462778e+01,  -9.30981969e+01],\n",
       "        [ -2.33614149e+00,   5.40438378e+02,   3.86596157e+02, ...,   9.44899156e+02,\n",
       "           1.27053211e+03,   7.43066435e+03],\n",
       "        [ -4.28350344e-01,   3.86596157e+02,   7.53697021e+02, ...,   1.20626948e+03,\n",
       "           1.28146734e+03,   9.67960182e+03],\n",
       "        ..., \n",
       "        [ -1.50678759e+01,   9.44899156e+02,   1.20626948e+03, ...,   3.51490143e+03,\n",
       "           2.86689721e+03,   2.35337531e+04],\n",
       "        [ -1.47462778e+01,   1.27053211e+03,   1.28146734e+03, ...,   2.86689721e+03,\n",
       "           4.03645617e+03,   2.17266884e+04],\n",
       "        [ -9.30981969e+01,   7.43066435e+03,   9.67960182e+03, ...,   2.35337531e+04,\n",
       "           2.17266884e+04,   1.96322295e+05]])"
      ]
     },
     "execution_count": 86,
     "metadata": {},
     "output_type": "execute_result"
    }
   ],
   "source": [
    "cov_matrix"
   ]
  },
  {
   "cell_type": "code",
   "execution_count": 88,
   "metadata": {
    "collapsed": false
   },
   "outputs": [
    {
     "data": {
      "text/html": [
       "<table border=\"1\" class=\"dataframe\">\n",
       "    <thead>\n",
       "        <tr>\n",
       "            <th>MP</th> <th>PTS</th> <th>TRB</th> <th>AST</th> <th>STL</th> <th>BLK</th>\n",
       "        </tr>\n",
       "    </thead>\n",
       "    <tbody>\n",
       "        <tr>\n",
       "            <td>-1533</td> <td>-716</td> <td>-229</td> <td>-200</td> <td>-50 </td> <td>-21 </td>\n",
       "        </tr>\n",
       "    </tbody>\n",
       "        <tr>\n",
       "            <td>-2349</td> <td>-997</td> <td>-406</td> <td>-221</td> <td>-73 </td> <td>-42 </td>\n",
       "        </tr>\n",
       "    </tbody>\n",
       "        <tr>\n",
       "            <td>-20  </td> <td>-109</td> <td>-144</td> <td>-83 </td> <td>-52 </td> <td>-32 </td>\n",
       "        </tr>\n",
       "    </tbody>\n",
       "        <tr>\n",
       "            <td>-1503</td> <td>-652</td> <td>-140</td> <td>-193</td> <td>-57 </td> <td>-7  </td>\n",
       "        </tr>\n",
       "    </tbody>\n",
       "        <tr>\n",
       "            <td>-123 </td> <td>317 </td> <td>217 </td> <td>-114</td> <td>-38 </td> <td>36  </td>\n",
       "        </tr>\n",
       "    </tbody>\n",
       "        <tr>\n",
       "            <td>-745 </td> <td>-470</td> <td>-113</td> <td>-154</td> <td>32  </td> <td>-24 </td>\n",
       "        </tr>\n",
       "    </tbody>\n",
       "        <tr>\n",
       "            <td>-43  </td> <td>-176</td> <td>86  </td> <td>-87 </td> <td>-6  </td> <td>9   </td>\n",
       "        </tr>\n",
       "    </tbody>\n",
       "        <tr>\n",
       "            <td>-1991</td> <td>-907</td> <td>-316</td> <td>-212</td> <td>-63 </td> <td>-29 </td>\n",
       "        </tr>\n",
       "    </tbody>\n",
       "        <tr>\n",
       "            <td>-2328</td> <td>-991</td> <td>-399</td> <td>-221</td> <td>-75 </td> <td>-39 </td>\n",
       "        </tr>\n",
       "    </tbody>\n",
       "        <tr>\n",
       "            <td>-2027</td> <td>-920</td> <td>-325</td> <td>-215</td> <td>-64 </td> <td>-32 </td>\n",
       "        </tr>\n",
       "    </tbody>\n",
       "</table>\n",
       "<p>... (492 rows omitted)</p"
      ],
      "text/plain": [
       "MP    | PTS  | TRB  | AST  | STL  | BLK\n",
       "-1533 | -716 | -229 | -200 | -50  | -21\n",
       "-2349 | -997 | -406 | -221 | -73  | -42\n",
       "-20   | -109 | -144 | -83  | -52  | -32\n",
       "-1503 | -652 | -140 | -193 | -57  | -7\n",
       "-123  | 317  | 217  | -114 | -38  | 36\n",
       "-745  | -470 | -113 | -154 | 32   | -24\n",
       "-43   | -176 | 86   | -87  | -6   | 9\n",
       "-1991 | -907 | -316 | -212 | -63  | -29\n",
       "-2328 | -991 | -399 | -221 | -75  | -39\n",
       "-2027 | -920 | -325 | -215 | -64  | -32\n",
       "... (492 rows omitted)"
      ]
     },
     "execution_count": 88,
     "metadata": {},
     "output_type": "execute_result"
    }
   ],
   "source": [
    "big5 = basketball_numbers.select(['MP','PTS', 'TRB', 'AST', 'STL', 'BLK'])\n",
    "big5"
   ]
  },
  {
   "cell_type": "code",
   "execution_count": 89,
   "metadata": {
    "collapsed": false
   },
   "outputs": [
    {
     "data": {
      "text/html": [
       "<table border=\"1\" class=\"dataframe\">\n",
       "    <thead>\n",
       "        <tr>\n",
       "            <th>MP</th> <th>PTS</th> <th>TRB</th> <th>AST</th> <th>STL</th> <th>BLK</th>\n",
       "        </tr>\n",
       "    </thead>\n",
       "    <tbody>\n",
       "        <tr>\n",
       "            <td>-1559</td> <td>-767 </td> <td>-253</td> <td>-1382</td> <td>-236</td> <td>-438</td>\n",
       "        </tr>\n",
       "    </tbody>\n",
       "        <tr>\n",
       "            <td>-2375</td> <td>-1048</td> <td>-430</td> <td>-1403</td> <td>-259</td> <td>-459</td>\n",
       "        </tr>\n",
       "    </tbody>\n",
       "        <tr>\n",
       "            <td>-46  </td> <td>-160 </td> <td>-168</td> <td>-1265</td> <td>-238</td> <td>-449</td>\n",
       "        </tr>\n",
       "    </tbody>\n",
       "        <tr>\n",
       "            <td>-1529</td> <td>-703 </td> <td>-164</td> <td>-1375</td> <td>-243</td> <td>-424</td>\n",
       "        </tr>\n",
       "    </tbody>\n",
       "        <tr>\n",
       "            <td>-149 </td> <td>265  </td> <td>192 </td> <td>-1296</td> <td>-224</td> <td>-381</td>\n",
       "        </tr>\n",
       "    </tbody>\n",
       "        <tr>\n",
       "            <td>-771 </td> <td>-521 </td> <td>-137</td> <td>-1336</td> <td>-154</td> <td>-441</td>\n",
       "        </tr>\n",
       "    </tbody>\n",
       "        <tr>\n",
       "            <td>-69  </td> <td>-227 </td> <td>61  </td> <td>-1269</td> <td>-192</td> <td>-408</td>\n",
       "        </tr>\n",
       "    </tbody>\n",
       "        <tr>\n",
       "            <td>-2017</td> <td>-958 </td> <td>-340</td> <td>-1394</td> <td>-249</td> <td>-446</td>\n",
       "        </tr>\n",
       "    </tbody>\n",
       "        <tr>\n",
       "            <td>-2354</td> <td>-1042</td> <td>-423</td> <td>-1403</td> <td>-261</td> <td>-456</td>\n",
       "        </tr>\n",
       "    </tbody>\n",
       "        <tr>\n",
       "            <td>-2053</td> <td>-971 </td> <td>-349</td> <td>-1397</td> <td>-250</td> <td>-449</td>\n",
       "        </tr>\n",
       "    </tbody>\n",
       "</table>\n",
       "<p>... (492 rows omitted)</p"
      ],
      "text/plain": [
       "MP    | PTS   | TRB  | AST   | STL  | BLK\n",
       "-1559 | -767  | -253 | -1382 | -236 | -438\n",
       "-2375 | -1048 | -430 | -1403 | -259 | -459\n",
       "-46   | -160  | -168 | -1265 | -238 | -449\n",
       "-1529 | -703  | -164 | -1375 | -243 | -424\n",
       "-149  | 265   | 192  | -1296 | -224 | -381\n",
       "-771  | -521  | -137 | -1336 | -154 | -441\n",
       "-69   | -227  | 61   | -1269 | -192 | -408\n",
       "-2017 | -958  | -340 | -1394 | -249 | -446\n",
       "-2354 | -1042 | -423 | -1403 | -261 | -456\n",
       "-2053 | -971  | -349 | -1397 | -250 | -449\n",
       "... (492 rows omitted)"
      ]
     },
     "execution_count": 89,
     "metadata": {},
     "output_type": "execute_result"
    }
   ],
   "source": [
    "big5deviations = subtract_means(big5)\n",
    "big5deviations"
   ]
  },
  {
   "cell_type": "code",
   "execution_count": 90,
   "metadata": {
    "collapsed": false
   },
   "outputs": [
    {
     "data": {
      "text/plain": [
       "array([[  6.72512748e+05,   3.32984454e+05,   1.18008652e+05,   7.33549926e+04,   2.32226837e+04,\n",
       "          1.24892459e+04],\n",
       "       [  3.32984454e+05,   1.96112580e+05,   5.95361856e+04,   4.09303731e+04,   1.18452959e+04,\n",
       "          6.19595622e+03],\n",
       "       [  1.18008652e+05,   5.95361856e+04,   3.38720144e+04,   1.00636005e+04,   3.83348955e+03,\n",
       "          4.08587684e+03],\n",
       "       [  7.33549926e+04,   4.09303731e+04,   1.00636005e+04,   1.58611216e+04,   3.22963307e+03,\n",
       "          7.68368661e+02],\n",
       "       [  2.32226837e+04,   1.18452959e+04,   3.83348955e+03,   3.22963307e+03,   1.10087726e+03,\n",
       "          3.63047170e+02],\n",
       "       [  1.24892459e+04,   6.19595622e+03,   4.08587684e+03,   7.68368661e+02,   3.63047170e+02,\n",
       "          7.46824181e+02]])"
      ]
     },
     "execution_count": 90,
     "metadata": {},
     "output_type": "execute_result"
    }
   ],
   "source": [
    "big5covariance = np.array(np.matrix(covariance_matrix(big5deviations).columns[1:]))\n",
    "big5covariance"
   ]
  },
  {
   "cell_type": "code",
   "execution_count": 91,
   "metadata": {
    "collapsed": false
   },
   "outputs": [
    {
     "data": {
      "text/plain": [
       "(array([  8.74122724e+05,   2.55563392e+04,   1.42613484e+04,   5.79825973e+03,   2.49688965e+02,\n",
       "          2.17804958e+02]),\n",
       " array([[-0.873512  , -0.44389265, -0.17968117,  0.08366697,  0.02054382, -0.01511835],\n",
       "        [-0.44929   ,  0.86889661,  0.11712813,  0.17154946, -0.0015642 ,  0.00255029],\n",
       "        [-0.15590772, -0.12666302,  0.89364692, -0.37624519, -0.09371318, -0.1034497 ],\n",
       "        [-0.09804223,  0.17735005, -0.36808925, -0.90228359,  0.08548558, -0.04496141],\n",
       "        [-0.03038592,  0.00258686, -0.03791179, -0.08352546, -0.72817107,  0.67854484],\n",
       "        [-0.01650683, -0.02178839,  0.13588179, -0.03029857,  0.67324027,  0.72568483]]))"
      ]
     },
     "execution_count": 91,
     "metadata": {},
     "output_type": "execute_result"
    }
   ],
   "source": [
    "eigen = np.linalg.eig(big5covariance)\n",
    "eigen"
   ]
  },
  {
   "cell_type": "code",
   "execution_count": 92,
   "metadata": {
    "collapsed": false
   },
   "outputs": [
    {
     "data": {
      "text/plain": [
       "matrix([[-0.873512  , -0.44929   ],\n",
       "        [-0.44389265,  0.86889661],\n",
       "        [-0.17968117,  0.11712813],\n",
       "        [ 0.08366697,  0.17154946],\n",
       "        [ 0.02054382, -0.0015642 ],\n",
       "        [-0.01511835,  0.00255029]])"
      ]
     },
     "execution_count": 92,
     "metadata": {},
     "output_type": "execute_result"
    }
   ],
   "source": [
    "##PCA:\n",
    "ev = eigen[1][0:2]\n",
    "mat = np.matrix(ev)\n",
    "matt = mat.T\n",
    "\n",
    "featurevector = np.matrix(matt)\n",
    "eigenvec2 = featurevector\n",
    "eigenvec2"
   ]
  },
  {
   "cell_type": "code",
   "execution_count": 93,
   "metadata": {
    "collapsed": false
   },
   "outputs": [
    {
     "data": {
      "text/plain": [
       "matrix([[-0.873512  , -0.44929   , -0.15590772, -0.09804223, -0.03038592, -0.01650683],\n",
       "        [-0.44389265,  0.86889661, -0.12666302,  0.17735005,  0.00258686, -0.02178839],\n",
       "        [-0.17968117,  0.11712813,  0.89364692, -0.36808925, -0.03791179,  0.13588179],\n",
       "        [ 0.08366697,  0.17154946, -0.37624519, -0.90228359, -0.08352546, -0.03029857],\n",
       "        [ 0.02054382, -0.0015642 , -0.09371318,  0.08548558, -0.72817107,  0.67324027],\n",
       "        [-0.01511835,  0.00255029, -0.1034497 , -0.04496141,  0.67854484,  0.72568483]])"
      ]
     },
     "execution_count": 93,
     "metadata": {},
     "output_type": "execute_result"
    }
   ],
   "source": [
    "evall = eigen[1][:]\n",
    "matall = np.matrix(evall)\n",
    "mattall = matall.T\n",
    "\n",
    "featurevectorall = np.matrix(mattall)\n",
    "featurevectorall"
   ]
  },
  {
   "cell_type": "code",
   "execution_count": 94,
   "metadata": {
    "collapsed": false
   },
   "outputs": [
    {
     "data": {
      "text/plain": [
       "array([[-0.873512  , -0.44389265, -0.17968117,  0.08366697,  0.02054382, -0.01511835],\n",
       "       [-0.44929   ,  0.86889661,  0.11712813,  0.17154946, -0.0015642 ,  0.00255029]])"
      ]
     },
     "execution_count": 94,
     "metadata": {},
     "output_type": "execute_result"
    }
   ],
   "source": [
    "feature_vector_transpose = np.array(featurevector.T)\n",
    "feature_vector_transpose"
   ]
  },
  {
   "cell_type": "code",
   "execution_count": 95,
   "metadata": {
    "collapsed": false
   },
   "outputs": [
    {
     "data": {
      "text/plain": [
       "(array([-1559, -2375,   -46, ..., -1357,    14,  -630]),\n",
       " array([ -767, -1048,  -160, ...,  -663,    44,  -421]),\n",
       " array([-253, -430, -168, ..., -335,  225,   17]),\n",
       " array([-1382, -1403, -1265, ..., -1372, -1272, -1335]),\n",
       " array([-236, -259, -238, ..., -239, -152, -207]),\n",
       " array([-438, -459, -449, ..., -452, -423, -398]))"
      ]
     },
     "execution_count": 95,
     "metadata": {},
     "output_type": "execute_result"
    }
   ],
   "source": [
    "mean_adjusted_data_transpose = big5deviations.columns\n",
    "mean_adjusted_data_transpose"
   ]
  },
  {
   "cell_type": "code",
   "execution_count": 96,
   "metadata": {
    "collapsed": false
   },
   "outputs": [
    {
     "data": {
      "text/plain": [
       "(2, 502)"
      ]
     },
     "execution_count": 96,
     "metadata": {},
     "output_type": "execute_result"
    }
   ],
   "source": [
    "final_data = np.matmul(feature_vector_transpose, mean_adjusted_data_transpose)\n",
    "final_data.shape"
   ]
  },
  {
   "cell_type": "code",
   "execution_count": 98,
   "metadata": {
    "collapsed": false
   },
   "outputs": [
    {
     "data": {
      "image/png": "[encoded data removed]",
      "text/plain": [
       "<matplotlib.figure.Figure at 0x10c8fb518>"
      ]
     },
     "metadata": {},
     "output_type": "display_data"
    }
   ],
   "source": [
    "final_table = Table().with_columns([[\"MP\", final_data[0]], [\"PTS\", final_data[1]]])\n",
    "final_table.scatter(0)"
   ]
  },
  {
   "cell_type": "code",
   "execution_count": 99,
   "metadata": {
    "collapsed": false
   },
   "outputs": [
    {
     "data": {
      "text/plain": [
       "(6, 502)"
      ]
     },
     "execution_count": 99,
     "metadata": {},
     "output_type": "execute_result"
    }
   ],
   "source": [
    "fullvector = np.matmul(eigenvec2, final_data)\n",
    "fullvector.shape"
   ]
  },
  {
   "cell_type": "code",
   "execution_count": 100,
   "metadata": {
    "collapsed": false
   },
   "outputs": [
    {
     "data": {
      "text/plain": [
       "array([-1208.05776892,  -553.51394422,  -228.47609562, -1293.9561753 ,  -223.85458167,\n",
       "        -437.63944223])"
      ]
     },
     "execution_count": 100,
     "metadata": {},
     "output_type": "execute_result"
    }
   ],
   "source": [
    "def subtract_means2(table):\n",
    "    means = []\n",
    "    def getMean(arr):\n",
    "        return np.mean(arr)\n",
    "\n",
    "    for col in table.columns:\n",
    "        means += [getMean(col)]\n",
    "    return means\n",
    "column_means = np.array(subtract_means2(big5))\n",
    "column_means"
   ]
  },
  {
   "cell_type": "code",
   "execution_count": 101,
   "metadata": {
    "collapsed": false
   },
   "outputs": [
    {
     "data": {
      "text/plain": [
       "matrix([[-2530.3753265 , -1481.63489582,  -549.39794419, -1197.30522043,  -189.92335286,\n",
       "          -462.93634968],\n",
       "        [-3332.14873671, -1781.42585214,  -693.76408165, -1107.90102901,  -172.25687947,\n",
       "          -475.79997018],\n",
       "        [-1080.90669652,  -879.30584794,  -276.88142383, -1351.8629121 ,  -222.52863206,\n",
       "          -439.11307025],\n",
       "        ..., \n",
       "        [-2345.91697895, -1397.01800739,  -513.196535  , -1216.04119863,  -194.16073847,\n",
       "          -459.82965436],\n",
       "        [ -982.66919019,  -615.36246195,  -215.79980936, -1336.20412669,  -227.20529329,\n",
       "          -435.39855566],\n",
       "        [-1613.81745508, -1100.36187345,  -376.99907176, -1294.99195253,  -210.54537205,\n",
       "          -447.86819666]])"
      ]
     },
     "execution_count": 101,
     "metadata": {},
     "output_type": "execute_result"
    }
   ],
   "source": [
    "def processed(feature_vector, final_data, original_table):\n",
    "    processed = []\n",
    "    processed = feature_vector * final_data    \n",
    "    for i in range(6):\n",
    "        processed[i] = processed[i] + column_means[i]\n",
    "    return processed.T\n",
    "\n",
    "        \n",
    "processed_data = processed(eigenvec2, final_data, big5)\n",
    "processed_data"
   ]
  },
  {
   "cell_type": "code",
   "execution_count": 102,
   "metadata": {
    "collapsed": true
   },
   "outputs": [],
   "source": [
    "##LS:"
   ]
  },
  {
   "cell_type": "code",
   "execution_count": 103,
   "metadata": {
    "collapsed": true
   },
   "outputs": [],
   "source": [
    "basketball_df = basketball_numbers.to_df()"
   ]
  },
  {
   "cell_type": "code",
   "execution_count": 104,
   "metadata": {
    "collapsed": false
   },
   "outputs": [
    {
     "data": {
      "text/plain": [
       "Index(['Age', 'G', 'GS', 'MP', 'FG', 'FGA', 'FG%', '3P', '3PA', '3P%', '2P',\n",
       "       '2PA', '2P%', 'eFG%', 'FT', 'FTA', 'FT%', 'ORB', 'DRB', 'TRB', 'AST',\n",
       "       'STL', 'BLK', 'TOV', 'PF', 'PTS'],\n",
       "      dtype='object')"
      ]
     },
     "execution_count": 104,
     "metadata": {},
     "output_type": "execute_result"
    }
   ],
   "source": [
    "basketball_df.columns"
   ]
  },
  {
   "cell_type": "code",
   "execution_count": 105,
   "metadata": {
    "collapsed": false
   },
   "outputs": [
    {
     "data": {
      "text/html": [
       "<table class=\"simpletable\">\n",
       "<caption>OLS Regression Results</caption>\n",
       "<tr>\n",
       "  <th>Dep. Variable:</th>           <td>PTS</td>       <th>  R-squared:         </th> <td>   0.841</td> \n",
       "</tr>\n",
       "<tr>\n",
       "  <th>Model:</th>                   <td>OLS</td>       <th>  Adj. R-squared:    </th> <td>   0.840</td> \n",
       "</tr>\n",
       "<tr>\n",
       "  <th>Method:</th>             <td>Least Squares</td>  <th>  F-statistic:       </th> <td>   2638.</td> \n",
       "</tr>\n",
       "<tr>\n",
       "  <th>Date:</th>             <td>Sat, 27 Aug 2016</td> <th>  Prob (F-statistic):</th> <td>1.53e-201</td>\n",
       "</tr>\n",
       "<tr>\n",
       "  <th>Time:</th>                 <td>13:05:14</td>     <th>  Log-Likelihood:    </th> <td> -3310.4</td> \n",
       "</tr>\n",
       "<tr>\n",
       "  <th>No. Observations:</th>      <td>   502</td>      <th>  AIC:               </th> <td>   6625.</td> \n",
       "</tr>\n",
       "<tr>\n",
       "  <th>Df Residuals:</th>          <td>   500</td>      <th>  BIC:               </th> <td>   6633.</td> \n",
       "</tr>\n",
       "<tr>\n",
       "  <th>Df Model:</th>              <td>     1</td>      <th>                     </th>     <td> </td>    \n",
       "</tr>\n",
       "<tr>\n",
       "  <th>Covariance Type:</th>      <td>nonrobust</td>    <th>                     </th>     <td> </td>    \n",
       "</tr>\n",
       "</table>\n",
       "<table class=\"simpletable\">\n",
       "<tr>\n",
       "    <td></td>       <th>coef</th>     <th>std err</th>      <th>t</th>      <th>P>|t|</th> <th>[95.0% Conf. Int.]</th> \n",
       "</tr>\n",
       "<tr>\n",
       "  <th>const</th> <td>   83.0036</td> <td>   13.875</td> <td>    5.982</td> <td> 0.000</td> <td>   55.744   110.263</td>\n",
       "</tr>\n",
       "<tr>\n",
       "  <th>MP</th>    <td>    0.4953</td> <td>    0.010</td> <td>   51.357</td> <td> 0.000</td> <td>    0.476     0.514</td>\n",
       "</tr>\n",
       "</table>\n",
       "<table class=\"simpletable\">\n",
       "<tr>\n",
       "  <th>Omnibus:</th>       <td>160.335</td> <th>  Durbin-Watson:     </th> <td>   2.000</td> \n",
       "</tr>\n",
       "<tr>\n",
       "  <th>Prob(Omnibus):</th> <td> 0.000</td>  <th>  Jarque-Bera (JB):  </th> <td> 876.875</td> \n",
       "</tr>\n",
       "<tr>\n",
       "  <th>Skew:</th>          <td> 1.285</td>  <th>  Prob(JB):          </th> <td>3.88e-191</td>\n",
       "</tr>\n",
       "<tr>\n",
       "  <th>Kurtosis:</th>      <td> 8.943</td>  <th>  Cond. No.          </th> <td>2.52e+03</td> \n",
       "</tr>\n",
       "</table>"
      ],
      "text/plain": [
       "<class 'statsmodels.iolib.summary.Summary'>\n",
       "\"\"\"\n",
       "                            OLS Regression Results                            \n",
       "==============================================================================\n",
       "Dep. Variable:                    PTS   R-squared:                       0.841\n",
       "Model:                            OLS   Adj. R-squared:                  0.840\n",
       "Method:                 Least Squares   F-statistic:                     2638.\n",
       "Date:                Sat, 27 Aug 2016   Prob (F-statistic):          1.53e-201\n",
       "Time:                        13:05:14   Log-Likelihood:                -3310.4\n",
       "No. Observations:                 502   AIC:                             6625.\n",
       "Df Residuals:                     500   BIC:                             6633.\n",
       "Df Model:                           1                                         \n",
       "Covariance Type:            nonrobust                                         \n",
       "==============================================================================\n",
       "                 coef    std err          t      P>|t|      [95.0% Conf. Int.]\n",
       "------------------------------------------------------------------------------\n",
       "const         83.0036     13.875      5.982      0.000        55.744   110.263\n",
       "MP             0.4953      0.010     51.357      0.000         0.476     0.514\n",
       "==============================================================================\n",
       "Omnibus:                      160.335   Durbin-Watson:                   2.000\n",
       "Prob(Omnibus):                  0.000   Jarque-Bera (JB):              876.875\n",
       "Skew:                           1.285   Prob(JB):                    3.88e-191\n",
       "Kurtosis:                       8.943   Cond. No.                     2.52e+03\n",
       "==============================================================================\n",
       "\n",
       "Warnings:\n",
       "[1] Standard Errors assume that the covariance matrix of the errors is correctly specified.\n",
       "[2] The condition number is large, 2.52e+03. This might indicate that there are\n",
       "strong multicollinearity or other numerical problems.\n",
       "\"\"\""
      ]
     },
     "execution_count": 105,
     "metadata": {},
     "output_type": "execute_result"
    }
   ],
   "source": [
    "x = basketball_df[['MP']]\n",
    "y = basketball_df['PTS']\n",
    "x = sm.add_constant(x)\n",
    "est = sm.OLS(y, x).fit()\n",
    "est.summary()"
   ]
  },
  {
   "cell_type": "code",
   "execution_count": 106,
   "metadata": {
    "collapsed": true
   },
   "outputs": [],
   "source": [
    "from pandas.stats.api import ols"
   ]
  },
  {
   "cell_type": "code",
   "execution_count": 107,
   "metadata": {
    "collapsed": false
   },
   "outputs": [
    {
     "data": {
      "text/html": [
       "<table class=\"simpletable\">\n",
       "<caption>OLS Regression Results</caption>\n",
       "<tr>\n",
       "  <th>Dep. Variable:</th>           <td>AST</td>       <th>  R-squared:         </th> <td>   0.505</td>\n",
       "</tr>\n",
       "<tr>\n",
       "  <th>Model:</th>                   <td>OLS</td>       <th>  Adj. R-squared:    </th> <td>   0.503</td>\n",
       "</tr>\n",
       "<tr>\n",
       "  <th>Method:</th>             <td>Least Squares</td>  <th>  F-statistic:       </th> <td>   255.0</td>\n",
       "</tr>\n",
       "<tr>\n",
       "  <th>Date:</th>             <td>Sat, 27 Aug 2016</td> <th>  Prob (F-statistic):</th> <td>5.14e-77</td>\n",
       "</tr>\n",
       "<tr>\n",
       "  <th>Time:</th>                 <td>13:05:15</td>     <th>  Log-Likelihood:    </th> <td> -2963.2</td>\n",
       "</tr>\n",
       "<tr>\n",
       "  <th>No. Observations:</th>      <td>   502</td>      <th>  AIC:               </th> <td>   5932.</td>\n",
       "</tr>\n",
       "<tr>\n",
       "  <th>Df Residuals:</th>          <td>   499</td>      <th>  BIC:               </th> <td>   5945.</td>\n",
       "</tr>\n",
       "<tr>\n",
       "  <th>Df Model:</th>              <td>     2</td>      <th>                     </th>     <td> </td>   \n",
       "</tr>\n",
       "<tr>\n",
       "  <th>Covariance Type:</th>      <td>nonrobust</td>    <th>                     </th>     <td> </td>   \n",
       "</tr>\n",
       "</table>\n",
       "<table class=\"simpletable\">\n",
       "<tr>\n",
       "      <td></td>         <th>coef</th>     <th>std err</th>      <th>t</th>      <th>P>|t|</th> <th>[95.0% Conf. Int.]</th> \n",
       "</tr>\n",
       "<tr>\n",
       "  <th>Intercept</th> <td>   14.8397</td> <td>    7.301</td> <td>    2.032</td> <td> 0.043</td> <td>    0.495    29.185</td>\n",
       "</tr>\n",
       "<tr>\n",
       "  <th>MP</th>        <td>    0.1022</td> <td>    0.009</td> <td>   11.715</td> <td> 0.000</td> <td>    0.085     0.119</td>\n",
       "</tr>\n",
       "<tr>\n",
       "  <th>GS</th>        <td>    0.2473</td> <td>    0.261</td> <td>    0.949</td> <td> 0.343</td> <td>   -0.265     0.759</td>\n",
       "</tr>\n",
       "</table>\n",
       "<table class=\"simpletable\">\n",
       "<tr>\n",
       "  <th>Omnibus:</th>       <td>277.114</td> <th>  Durbin-Watson:     </th> <td>   2.030</td>\n",
       "</tr>\n",
       "<tr>\n",
       "  <th>Prob(Omnibus):</th> <td> 0.000</td>  <th>  Jarque-Bera (JB):  </th> <td>2547.044</td>\n",
       "</tr>\n",
       "<tr>\n",
       "  <th>Skew:</th>          <td> 2.248</td>  <th>  Prob(JB):          </th> <td>    0.00</td>\n",
       "</tr>\n",
       "<tr>\n",
       "  <th>Kurtosis:</th>      <td>13.077</td>  <th>  Cond. No.          </th> <td>2.65e+03</td>\n",
       "</tr>\n",
       "</table>"
      ],
      "text/plain": [
       "<class 'statsmodels.iolib.summary.Summary'>\n",
       "\"\"\"\n",
       "                            OLS Regression Results                            \n",
       "==============================================================================\n",
       "Dep. Variable:                    AST   R-squared:                       0.505\n",
       "Model:                            OLS   Adj. R-squared:                  0.503\n",
       "Method:                 Least Squares   F-statistic:                     255.0\n",
       "Date:                Sat, 27 Aug 2016   Prob (F-statistic):           5.14e-77\n",
       "Time:                        13:05:15   Log-Likelihood:                -2963.2\n",
       "No. Observations:                 502   AIC:                             5932.\n",
       "Df Residuals:                     499   BIC:                             5945.\n",
       "Df Model:                           2                                         \n",
       "Covariance Type:            nonrobust                                         \n",
       "==============================================================================\n",
       "                 coef    std err          t      P>|t|      [95.0% Conf. Int.]\n",
       "------------------------------------------------------------------------------\n",
       "Intercept     14.8397      7.301      2.032      0.043         0.495    29.185\n",
       "MP             0.1022      0.009     11.715      0.000         0.085     0.119\n",
       "GS             0.2473      0.261      0.949      0.343        -0.265     0.759\n",
       "==============================================================================\n",
       "Omnibus:                      277.114   Durbin-Watson:                   2.030\n",
       "Prob(Omnibus):                  0.000   Jarque-Bera (JB):             2547.044\n",
       "Skew:                           2.248   Prob(JB):                         0.00\n",
       "Kurtosis:                      13.077   Cond. No.                     2.65e+03\n",
       "==============================================================================\n",
       "\n",
       "Warnings:\n",
       "[1] Standard Errors assume that the covariance matrix of the errors is correctly specified.\n",
       "[2] The condition number is large, 2.65e+03. This might indicate that there are\n",
       "strong multicollinearity or other numerical problems.\n",
       "\"\"\""
      ]
     },
     "execution_count": 107,
     "metadata": {},
     "output_type": "execute_result"
    }
   ],
   "source": [
    "import statsmodels.formula.api as sm1\n",
    "result = sm1.ols(formula=\"AST ~ MP + GS\", data=basketball_df).fit()\n",
    "result.summary()"
   ]
  },
  {
   "cell_type": "code",
   "execution_count": 108,
   "metadata": {
    "collapsed": false
   },
   "outputs": [
    {
     "data": {
      "text/html": [
       "<table class=\"simpletable\">\n",
       "<caption>OLS Regression Results</caption>\n",
       "<tr>\n",
       "  <th>Dep. Variable:</th>           <td>TOV</td>       <th>  R-squared:         </th> <td>   0.915</td> \n",
       "</tr>\n",
       "<tr>\n",
       "  <th>Model:</th>                   <td>OLS</td>       <th>  Adj. R-squared:    </th> <td>   0.914</td> \n",
       "</tr>\n",
       "<tr>\n",
       "  <th>Method:</th>             <td>Least Squares</td>  <th>  F-statistic:       </th> <td>   1782.</td> \n",
       "</tr>\n",
       "<tr>\n",
       "  <th>Date:</th>             <td>Sat, 27 Aug 2016</td> <th>  Prob (F-statistic):</th> <td>8.78e-266</td>\n",
       "</tr>\n",
       "<tr>\n",
       "  <th>Time:</th>                 <td>13:05:16</td>     <th>  Log-Likelihood:    </th> <td> -2143.6</td> \n",
       "</tr>\n",
       "<tr>\n",
       "  <th>No. Observations:</th>      <td>   502</td>      <th>  AIC:               </th> <td>   4295.</td> \n",
       "</tr>\n",
       "<tr>\n",
       "  <th>Df Residuals:</th>          <td>   498</td>      <th>  BIC:               </th> <td>   4312.</td> \n",
       "</tr>\n",
       "<tr>\n",
       "  <th>Df Model:</th>              <td>     3</td>      <th>                     </th>     <td> </td>    \n",
       "</tr>\n",
       "<tr>\n",
       "  <th>Covariance Type:</th>      <td>nonrobust</td>    <th>                     </th>     <td> </td>    \n",
       "</tr>\n",
       "</table>\n",
       "<table class=\"simpletable\">\n",
       "<tr>\n",
       "      <td></td>         <th>coef</th>     <th>std err</th>      <th>t</th>      <th>P>|t|</th> <th>[95.0% Conf. Int.]</th> \n",
       "</tr>\n",
       "<tr>\n",
       "  <th>Intercept</th> <td>    1.1251</td> <td>    1.932</td> <td>    0.582</td> <td> 0.561</td> <td>   -2.671     4.921</td>\n",
       "</tr>\n",
       "<tr>\n",
       "  <th>AST</th>       <td>    0.2288</td> <td>    0.009</td> <td>   25.232</td> <td> 0.000</td> <td>    0.211     0.247</td>\n",
       "</tr>\n",
       "<tr>\n",
       "  <th>G</th>         <td>    0.1840</td> <td>    0.048</td> <td>    3.818</td> <td> 0.000</td> <td>    0.089     0.279</td>\n",
       "</tr>\n",
       "<tr>\n",
       "  <th>PTS</th>       <td>    0.0652</td> <td>    0.003</td> <td>   20.795</td> <td> 0.000</td> <td>    0.059     0.071</td>\n",
       "</tr>\n",
       "</table>\n",
       "<table class=\"simpletable\">\n",
       "<tr>\n",
       "  <th>Omnibus:</th>       <td>58.691</td> <th>  Durbin-Watson:     </th> <td>   1.959</td>\n",
       "</tr>\n",
       "<tr>\n",
       "  <th>Prob(Omnibus):</th> <td> 0.000</td> <th>  Jarque-Bera (JB):  </th> <td> 288.708</td>\n",
       "</tr>\n",
       "<tr>\n",
       "  <th>Skew:</th>          <td> 0.354</td> <th>  Prob(JB):          </th> <td>2.03e-63</td>\n",
       "</tr>\n",
       "<tr>\n",
       "  <th>Kurtosis:</th>      <td> 6.647</td> <th>  Cond. No.          </th> <td>1.71e+03</td>\n",
       "</tr>\n",
       "</table>"
      ],
      "text/plain": [
       "<class 'statsmodels.iolib.summary.Summary'>\n",
       "\"\"\"\n",
       "                            OLS Regression Results                            \n",
       "==============================================================================\n",
       "Dep. Variable:                    TOV   R-squared:                       0.915\n",
       "Model:                            OLS   Adj. R-squared:                  0.914\n",
       "Method:                 Least Squares   F-statistic:                     1782.\n",
       "Date:                Sat, 27 Aug 2016   Prob (F-statistic):          8.78e-266\n",
       "Time:                        13:05:16   Log-Likelihood:                -2143.6\n",
       "No. Observations:                 502   AIC:                             4295.\n",
       "Df Residuals:                     498   BIC:                             4312.\n",
       "Df Model:                           3                                         \n",
       "Covariance Type:            nonrobust                                         \n",
       "==============================================================================\n",
       "                 coef    std err          t      P>|t|      [95.0% Conf. Int.]\n",
       "------------------------------------------------------------------------------\n",
       "Intercept      1.1251      1.932      0.582      0.561        -2.671     4.921\n",
       "AST            0.2288      0.009     25.232      0.000         0.211     0.247\n",
       "G              0.1840      0.048      3.818      0.000         0.089     0.279\n",
       "PTS            0.0652      0.003     20.795      0.000         0.059     0.071\n",
       "==============================================================================\n",
       "Omnibus:                       58.691   Durbin-Watson:                   1.959\n",
       "Prob(Omnibus):                  0.000   Jarque-Bera (JB):              288.708\n",
       "Skew:                           0.354   Prob(JB):                     2.03e-63\n",
       "Kurtosis:                       6.647   Cond. No.                     1.71e+03\n",
       "==============================================================================\n",
       "\n",
       "Warnings:\n",
       "[1] Standard Errors assume that the covariance matrix of the errors is correctly specified.\n",
       "[2] The condition number is large, 1.71e+03. This might indicate that there are\n",
       "strong multicollinearity or other numerical problems.\n",
       "\"\"\""
      ]
     },
     "execution_count": 108,
     "metadata": {},
     "output_type": "execute_result"
    }
   ],
   "source": [
    "result = sm1.ols(formula=\"TOV ~ AST + G + PTS\", data=basketball_df).fit()\n",
    "result.summary()"
   ]
  },
  {
   "cell_type": "code",
   "execution_count": 109,
   "metadata": {
    "collapsed": false
   },
   "outputs": [
    {
     "data": {
      "text/html": [
       "<table class=\"simpletable\">\n",
       "<caption>OLS Regression Results</caption>\n",
       "<tr>\n",
       "  <th>Dep. Variable:</th>           <td>PTS</td>       <th>  R-squared:         </th> <td>   0.898</td> \n",
       "</tr>\n",
       "<tr>\n",
       "  <th>Model:</th>                   <td>OLS</td>       <th>  Adj. R-squared:    </th> <td>   0.897</td> \n",
       "</tr>\n",
       "<tr>\n",
       "  <th>Method:</th>             <td>Least Squares</td>  <th>  F-statistic:       </th> <td>   869.2</td> \n",
       "</tr>\n",
       "<tr>\n",
       "  <th>Date:</th>             <td>Sat, 27 Aug 2016</td> <th>  Prob (F-statistic):</th> <td>9.87e-243</td>\n",
       "</tr>\n",
       "<tr>\n",
       "  <th>Time:</th>                 <td>13:05:17</td>     <th>  Log-Likelihood:    </th> <td> -3199.5</td> \n",
       "</tr>\n",
       "<tr>\n",
       "  <th>No. Observations:</th>      <td>   502</td>      <th>  AIC:               </th> <td>   6411.</td> \n",
       "</tr>\n",
       "<tr>\n",
       "  <th>Df Residuals:</th>          <td>   496</td>      <th>  BIC:               </th> <td>   6436.</td> \n",
       "</tr>\n",
       "<tr>\n",
       "  <th>Df Model:</th>              <td>     5</td>      <th>                     </th>     <td> </td>    \n",
       "</tr>\n",
       "<tr>\n",
       "  <th>Covariance Type:</th>      <td>nonrobust</td>    <th>                     </th>     <td> </td>    \n",
       "</tr>\n",
       "</table>\n",
       "<table class=\"simpletable\">\n",
       "<tr>\n",
       "      <td></td>         <th>coef</th>     <th>std err</th>      <th>t</th>      <th>P>|t|</th> <th>[95.0% Conf. Int.]</th> \n",
       "</tr>\n",
       "<tr>\n",
       "  <th>Intercept</th> <td>  -52.6075</td> <td>   44.825</td> <td>   -1.174</td> <td> 0.241</td> <td> -140.679    35.464</td>\n",
       "</tr>\n",
       "<tr>\n",
       "  <th>GS</th>        <td>   -0.1613</td> <td>    0.462</td> <td>   -0.349</td> <td> 0.727</td> <td>   -1.069     0.746</td>\n",
       "</tr>\n",
       "<tr>\n",
       "  <th>G</th>         <td>   -4.1592</td> <td>    0.619</td> <td>   -6.715</td> <td> 0.000</td> <td>   -5.376    -2.942</td>\n",
       "</tr>\n",
       "<tr>\n",
       "  <th>Age</th>       <td>   -1.0926</td> <td>    1.615</td> <td>   -0.676</td> <td> 0.499</td> <td>   -4.266     2.081</td>\n",
       "</tr>\n",
       "<tr>\n",
       "  <th>TOV</th>       <td>    2.7542</td> <td>    0.214</td> <td>   12.888</td> <td> 0.000</td> <td>    2.334     3.174</td>\n",
       "</tr>\n",
       "<tr>\n",
       "  <th>MP</th>        <td>    0.4314</td> <td>    0.029</td> <td>   14.626</td> <td> 0.000</td> <td>    0.373     0.489</td>\n",
       "</tr>\n",
       "</table>\n",
       "<table class=\"simpletable\">\n",
       "<tr>\n",
       "  <th>Omnibus:</th>       <td>65.506</td> <th>  Durbin-Watson:     </th> <td>   2.033</td>\n",
       "</tr>\n",
       "<tr>\n",
       "  <th>Prob(Omnibus):</th> <td> 0.000</td> <th>  Jarque-Bera (JB):  </th> <td> 397.985</td>\n",
       "</tr>\n",
       "<tr>\n",
       "  <th>Skew:</th>          <td> 0.344</td> <th>  Prob(JB):          </th> <td>3.79e-87</td>\n",
       "</tr>\n",
       "<tr>\n",
       "  <th>Kurtosis:</th>      <td> 7.308</td> <th>  Cond. No.          </th> <td>1.02e+04</td>\n",
       "</tr>\n",
       "</table>"
      ],
      "text/plain": [
       "<class 'statsmodels.iolib.summary.Summary'>\n",
       "\"\"\"\n",
       "                            OLS Regression Results                            \n",
       "==============================================================================\n",
       "Dep. Variable:                    PTS   R-squared:                       0.898\n",
       "Model:                            OLS   Adj. R-squared:                  0.897\n",
       "Method:                 Least Squares   F-statistic:                     869.2\n",
       "Date:                Sat, 27 Aug 2016   Prob (F-statistic):          9.87e-243\n",
       "Time:                        13:05:17   Log-Likelihood:                -3199.5\n",
       "No. Observations:                 502   AIC:                             6411.\n",
       "Df Residuals:                     496   BIC:                             6436.\n",
       "Df Model:                           5                                         \n",
       "Covariance Type:            nonrobust                                         \n",
       "==============================================================================\n",
       "                 coef    std err          t      P>|t|      [95.0% Conf. Int.]\n",
       "------------------------------------------------------------------------------\n",
       "Intercept    -52.6075     44.825     -1.174      0.241      -140.679    35.464\n",
       "GS            -0.1613      0.462     -0.349      0.727        -1.069     0.746\n",
       "G             -4.1592      0.619     -6.715      0.000        -5.376    -2.942\n",
       "Age           -1.0926      1.615     -0.676      0.499        -4.266     2.081\n",
       "TOV            2.7542      0.214     12.888      0.000         2.334     3.174\n",
       "MP             0.4314      0.029     14.626      0.000         0.373     0.489\n",
       "==============================================================================\n",
       "Omnibus:                       65.506   Durbin-Watson:                   2.033\n",
       "Prob(Omnibus):                  0.000   Jarque-Bera (JB):              397.985\n",
       "Skew:                           0.344   Prob(JB):                     3.79e-87\n",
       "Kurtosis:                       7.308   Cond. No.                     1.02e+04\n",
       "==============================================================================\n",
       "\n",
       "Warnings:\n",
       "[1] Standard Errors assume that the covariance matrix of the errors is correctly specified.\n",
       "[2] The condition number is large, 1.02e+04. This might indicate that there are\n",
       "strong multicollinearity or other numerical problems.\n",
       "\"\"\""
      ]
     },
     "execution_count": 109,
     "metadata": {},
     "output_type": "execute_result"
    }
   ],
   "source": [
    "result = sm1.ols(formula=\"PTS ~ GS + G + Age + TOV + MP\", data=basketball_df).fit()\n",
    "result.summary()\n",
    "\n",
    "#Discovered that points are highly negatively correlated with GS, G, Age, TOV and MP."
   ]
  },
  {
   "cell_type": "code",
   "execution_count": 111,
   "metadata": {
    "collapsed": false
   },
   "outputs": [
    {
     "data": {
      "text/html": [
       "<table class=\"simpletable\">\n",
       "<caption>OLS Regression Results</caption>\n",
       "<tr>\n",
       "  <th>Dep. Variable:</th>           <td>MP</td>        <th>  R-squared:         </th> <td>   0.733</td> \n",
       "</tr>\n",
       "<tr>\n",
       "  <th>Model:</th>                   <td>OLS</td>       <th>  Adj. R-squared:    </th> <td>   0.732</td> \n",
       "</tr>\n",
       "<tr>\n",
       "  <th>Method:</th>             <td>Least Squares</td>  <th>  F-statistic:       </th> <td>   1372.</td> \n",
       "</tr>\n",
       "<tr>\n",
       "  <th>Date:</th>             <td>Sat, 27 Aug 2016</td> <th>  Prob (F-statistic):</th> <td>1.91e-145</td>\n",
       "</tr>\n",
       "<tr>\n",
       "  <th>Time:</th>                 <td>13:05:21</td>     <th>  Log-Likelihood:    </th> <td> -3749.2</td> \n",
       "</tr>\n",
       "<tr>\n",
       "  <th>No. Observations:</th>      <td>   502</td>      <th>  AIC:               </th> <td>   7502.</td> \n",
       "</tr>\n",
       "<tr>\n",
       "  <th>Df Residuals:</th>          <td>   500</td>      <th>  BIC:               </th> <td>   7511.</td> \n",
       "</tr>\n",
       "<tr>\n",
       "  <th>Df Model:</th>              <td>     1</td>      <th>                     </th>     <td> </td>    \n",
       "</tr>\n",
       "<tr>\n",
       "  <th>Covariance Type:</th>      <td>nonrobust</td>    <th>                     </th>     <td> </td>    \n",
       "</tr>\n",
       "</table>\n",
       "<table class=\"simpletable\">\n",
       "<tr>\n",
       "    <td></td>       <th>coef</th>     <th>std err</th>      <th>t</th>      <th>P>|t|</th> <th>[95.0% Conf. Int.]</th> \n",
       "</tr>\n",
       "<tr>\n",
       "  <th>const</th> <td> -393.1352</td> <td>   28.511</td> <td>  -13.789</td> <td> 0.000</td> <td> -449.151  -337.119</td>\n",
       "</tr>\n",
       "<tr>\n",
       "  <th>TOV</th>   <td>   11.8443</td> <td>    0.320</td> <td>   37.042</td> <td> 0.000</td> <td>   11.216    12.473</td>\n",
       "</tr>\n",
       "</table>\n",
       "<table class=\"simpletable\">\n",
       "<tr>\n",
       "  <th>Omnibus:</th>       <td>22.236</td> <th>  Durbin-Watson:     </th> <td>   1.867</td>\n",
       "</tr>\n",
       "<tr>\n",
       "  <th>Prob(Omnibus):</th> <td> 0.000</td> <th>  Jarque-Bera (JB):  </th> <td>  30.301</td>\n",
       "</tr>\n",
       "<tr>\n",
       "  <th>Skew:</th>          <td> 0.386</td> <th>  Prob(JB):          </th> <td>2.63e-07</td>\n",
       "</tr>\n",
       "<tr>\n",
       "  <th>Kurtosis:</th>      <td> 3.924</td> <th>  Cond. No.          </th> <td>    134.</td>\n",
       "</tr>\n",
       "</table>"
      ],
      "text/plain": [
       "<class 'statsmodels.iolib.summary.Summary'>\n",
       "\"\"\"\n",
       "                            OLS Regression Results                            \n",
       "==============================================================================\n",
       "Dep. Variable:                     MP   R-squared:                       0.733\n",
       "Model:                            OLS   Adj. R-squared:                  0.732\n",
       "Method:                 Least Squares   F-statistic:                     1372.\n",
       "Date:                Sat, 27 Aug 2016   Prob (F-statistic):          1.91e-145\n",
       "Time:                        13:05:21   Log-Likelihood:                -3749.2\n",
       "No. Observations:                 502   AIC:                             7502.\n",
       "Df Residuals:                     500   BIC:                             7511.\n",
       "Df Model:                           1                                         \n",
       "Covariance Type:            nonrobust                                         \n",
       "==============================================================================\n",
       "                 coef    std err          t      P>|t|      [95.0% Conf. Int.]\n",
       "------------------------------------------------------------------------------\n",
       "const       -393.1352     28.511    -13.789      0.000      -449.151  -337.119\n",
       "TOV           11.8443      0.320     37.042      0.000        11.216    12.473\n",
       "==============================================================================\n",
       "Omnibus:                       22.236   Durbin-Watson:                   1.867\n",
       "Prob(Omnibus):                  0.000   Jarque-Bera (JB):               30.301\n",
       "Skew:                           0.386   Prob(JB):                     2.63e-07\n",
       "Kurtosis:                       3.924   Cond. No.                         134.\n",
       "==============================================================================\n",
       "\n",
       "Warnings:\n",
       "[1] Standard Errors assume that the covariance matrix of the errors is correctly specified.\n",
       "\"\"\""
      ]
     },
     "execution_count": 111,
     "metadata": {},
     "output_type": "execute_result"
    }
   ],
   "source": [
    "x = basketball_df[['MP']]\n",
    "z = basketball_df['TOV']\n",
    "w = sm.add_constant(z)\n",
    "est = sm.OLS(x, w).fit()\n",
    "est.summary()\n",
    "\n",
    "#It makes a lot of sense to me that turnovers and minutes playes are highly negatively correlated."
   ]
  },
  {
   "cell_type": "code",
   "execution_count": 112,
   "metadata": {
    "collapsed": false
   },
   "outputs": [
    {
     "data": {
      "text/html": [
       "<table class=\"simpletable\">\n",
       "<caption>OLS Regression Results</caption>\n",
       "<tr>\n",
       "  <th>Dep. Variable:</th>           <td>FTA</td>       <th>  R-squared:         </th> <td>   0.956</td> \n",
       "</tr>\n",
       "<tr>\n",
       "  <th>Model:</th>                   <td>OLS</td>       <th>  Adj. R-squared:    </th> <td>   0.956</td> \n",
       "</tr>\n",
       "<tr>\n",
       "  <th>Method:</th>             <td>Least Squares</td>  <th>  F-statistic:       </th> <td>1.095e+04</td>\n",
       "</tr>\n",
       "<tr>\n",
       "  <th>Date:</th>             <td>Sat, 27 Aug 2016</td> <th>  Prob (F-statistic):</th>  <td>  0.00</td>  \n",
       "</tr>\n",
       "<tr>\n",
       "  <th>Time:</th>                 <td>13:05:28</td>     <th>  Log-Likelihood:    </th> <td> -2338.3</td> \n",
       "</tr>\n",
       "<tr>\n",
       "  <th>No. Observations:</th>      <td>   502</td>      <th>  AIC:               </th> <td>   4681.</td> \n",
       "</tr>\n",
       "<tr>\n",
       "  <th>Df Residuals:</th>          <td>   500</td>      <th>  BIC:               </th> <td>   4689.</td> \n",
       "</tr>\n",
       "<tr>\n",
       "  <th>Df Model:</th>              <td>     1</td>      <th>                     </th>     <td> </td>    \n",
       "</tr>\n",
       "<tr>\n",
       "  <th>Covariance Type:</th>      <td>nonrobust</td>    <th>                     </th>     <td> </td>    \n",
       "</tr>\n",
       "</table>\n",
       "<table class=\"simpletable\">\n",
       "<tr>\n",
       "    <td></td>       <th>coef</th>     <th>std err</th>      <th>t</th>      <th>P>|t|</th> <th>[95.0% Conf. Int.]</th> \n",
       "</tr>\n",
       "<tr>\n",
       "  <th>const</th> <td>   -5.0125</td> <td>    1.532</td> <td>   -3.271</td> <td> 0.001</td> <td>   -8.023    -2.002</td>\n",
       "</tr>\n",
       "<tr>\n",
       "  <th>FT</th>    <td>    1.2386</td> <td>    0.012</td> <td>  104.652</td> <td> 0.000</td> <td>    1.215     1.262</td>\n",
       "</tr>\n",
       "</table>\n",
       "<table class=\"simpletable\">\n",
       "<tr>\n",
       "  <th>Omnibus:</th>       <td>720.318</td> <th>  Durbin-Watson:     </th>  <td>   1.976</td> \n",
       "</tr>\n",
       "<tr>\n",
       "  <th>Prob(Omnibus):</th> <td> 0.000</td>  <th>  Jarque-Bera (JB):  </th> <td>148936.888</td>\n",
       "</tr>\n",
       "<tr>\n",
       "  <th>Skew:</th>          <td> 7.542</td>  <th>  Prob(JB):          </th>  <td>    0.00</td> \n",
       "</tr>\n",
       "<tr>\n",
       "  <th>Kurtosis:</th>      <td>86.024</td>  <th>  Cond. No.          </th>  <td>    174.</td> \n",
       "</tr>\n",
       "</table>"
      ],
      "text/plain": [
       "<class 'statsmodels.iolib.summary.Summary'>\n",
       "\"\"\"\n",
       "                            OLS Regression Results                            \n",
       "==============================================================================\n",
       "Dep. Variable:                    FTA   R-squared:                       0.956\n",
       "Model:                            OLS   Adj. R-squared:                  0.956\n",
       "Method:                 Least Squares   F-statistic:                 1.095e+04\n",
       "Date:                Sat, 27 Aug 2016   Prob (F-statistic):               0.00\n",
       "Time:                        13:05:28   Log-Likelihood:                -2338.3\n",
       "No. Observations:                 502   AIC:                             4681.\n",
       "Df Residuals:                     500   BIC:                             4689.\n",
       "Df Model:                           1                                         \n",
       "Covariance Type:            nonrobust                                         \n",
       "==============================================================================\n",
       "                 coef    std err          t      P>|t|      [95.0% Conf. Int.]\n",
       "------------------------------------------------------------------------------\n",
       "const         -5.0125      1.532     -3.271      0.001        -8.023    -2.002\n",
       "FT             1.2386      0.012    104.652      0.000         1.215     1.262\n",
       "==============================================================================\n",
       "Omnibus:                      720.318   Durbin-Watson:                   1.976\n",
       "Prob(Omnibus):                  0.000   Jarque-Bera (JB):           148936.888\n",
       "Skew:                           7.542   Prob(JB):                         0.00\n",
       "Kurtosis:                      86.024   Cond. No.                         174.\n",
       "==============================================================================\n",
       "\n",
       "Warnings:\n",
       "[1] Standard Errors assume that the covariance matrix of the errors is correctly specified.\n",
       "\"\"\""
      ]
     },
     "execution_count": 112,
     "metadata": {},
     "output_type": "execute_result"
    }
   ],
   "source": [
    "gs = basketball_df[['FTA']]\n",
    "mp = basketball_df['FT']\n",
    "mp = sm.add_constant(mp)\n",
    "est = sm.OLS(gs, mp).fit()\n",
    "est.summary()\n",
    "\n",
    "#Clearly, free throws and free throws attempted are correlated!"
   ]
  },
  {
   "cell_type": "code",
   "execution_count": null,
   "metadata": {
    "collapsed": true
   },
   "outputs": [],
   "source": []
  }
 ],
 "metadata": {
  "kernelspec": {
   "display_name": "Python 3",
   "language": "python",
   "name": "python3"
  },
  "language_info": {
   "codemirror_mode": {
    "name": "ipython",
    "version": 3
   },
   "file_extension": ".py",
   "mimetype": "text/x-python",
   "name": "python",
   "nbconvert_exporter": "python",
   "pygments_lexer": "ipython3",
   "version": "3.4.3"
  }
 },
 "nbformat": 4,
 "nbformat_minor": 0
}
